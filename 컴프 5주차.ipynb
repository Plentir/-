{
 "cells": [
  {
   "cell_type": "code",
   "execution_count": 2,
   "metadata": {},
   "outputs": [
    {
     "name": "stdout",
     "output_type": "stream",
     "text": [
      "이름을 알려주세요.dbswndud\n",
      "반가워, dbswndud.\n"
     ]
    }
   ],
   "source": [
    "name = input(\"이름을 알려주세요.\")\n",
    "print('반가워, %s.' %name)"
   ]
  },
  {
   "cell_type": "code",
   "execution_count": 3,
   "metadata": {},
   "outputs": [
    {
     "name": "stdout",
     "output_type": "stream",
     "text": [
      "나이를 알려주세요.20\n",
      "17살로 보여요.\n"
     ]
    }
   ],
   "source": [
    "age = int(input('나이를 알려주세요.'))\n",
    "age = age - 3\n",
    "print('%s살로 보여요.' %age)"
   ]
  },
  {
   "cell_type": "code",
   "execution_count": 10,
   "metadata": {},
   "outputs": [
    {
     "name": "stdout",
     "output_type": "stream",
     "text": [
      "태어난 해를 입력해 주세요: 1999\n",
      "태어난 달을 입력해 주세요: 8\n",
      "태어난 날을 입력해 주세요: 10\n",
      "당신의 인디언식 이름은 욕심많은 달빛 을(를) 보라. 입니다.\n"
     ]
    }
   ],
   "source": [
    "year = {0:'말 많은',1:'푸른',2:'어두운',3:'조용한',4:'웅크린',5:'백색',6:'지혜로운',7:'용감한',8:'날카로운',9:'욕심많은'}\n",
    "month = {1:'늑대',2:'태양',3:'양',4:'매',5:'황소',6:'불꽃',7:'나무',8:'달빛',9:'말',10:'돼지',11:'하늘',12:'바람'}\n",
    "date = {1:'와(과) 함께 춤을',2:'의 기상',3:' 은(는) 그림자 속에',4:'????',5:'?????',6:'??????',7:'의 환생',8:'의 죽음',9:'아래에서', 10:'을(를) 보라.',11:' 이(가) 노래하다.',12:'의 그늘',13:'의 일격',14:'에게 쫓기는 남자',15:'의 행진', 16:'의 왕',17:'의 유령',18:'을 죽인 자.',19:'은(는) 맨날 잠잔다.',20:'처럼..',21:'의 고향',22:'의 전사', 23:'은(는) 나의 친구',24:'의 노래',25:'의 정령',26:'의 파수꾼',27:'의 악마',28:'와(과) 같은 사나이', 29:'을(를) 쓰러트린 자',30:'의 혼',31:'은(는) 말이 없다. '}\n",
    "\n",
    "y = input('태어난 해를 입력해 주세요: ')\n",
    "m = input('태어난 달을 입력해 주세요: ')\n",
    "d = input('태어난 날을 입력해 주세요: ')\n",
    "\n",
    "print('당신의 인디언식 이름은', year[int(y[-1])], month[int(m)], date[int(d)], '입니다.')"
   ]
  },
  {
   "cell_type": "markdown",
   "metadata": {},
   "source": [
    "## 외장 함수\n",
    "print(), len() 등의 내장 함수 이외의 함수들."
   ]
  },
  {
   "cell_type": "code",
   "execution_count": 13,
   "metadata": {},
   "outputs": [
    {
     "name": "stdout",
     "output_type": "stream",
     "text": [
      "0.80022022957216\n"
     ]
    }
   ],
   "source": [
    "import random\n",
    "\n",
    "print(random.random()) # 0~1 범위의 무작위 실수를 출력한다."
   ]
  },
  {
   "cell_type": "code",
   "execution_count": 15,
   "metadata": {},
   "outputs": [
    {
     "name": "stdout",
     "output_type": "stream",
     "text": [
      "7\n"
     ]
    }
   ],
   "source": [
    "print(random.randint(1, 10)) # 1~10 범위의 무작위 정수를 출력한다."
   ]
  },
  {
   "cell_type": "code",
   "execution_count": 17,
   "metadata": {},
   "outputs": [
    {
     "name": "stdout",
     "output_type": "stream",
     "text": [
      "66\n"
     ]
    }
   ],
   "source": [
    "data = [1, 23, 125, 25, 66, 123]\n",
    "\n",
    "a = random.choice(data) # data의 원소 중에서 무작위로 하나를 추출한다.\n",
    "print(a)"
   ]
  },
  {
   "cell_type": "code",
   "execution_count": 19,
   "metadata": {},
   "outputs": [
    {
     "name": "stdout",
     "output_type": "stream",
     "text": [
      "[2, 23, 14, 66, 231, 3, 1]\n",
      "[1, 3, 231, 2, 66, 23, 14]\n"
     ]
    }
   ],
   "source": [
    "shuffle = [2, 23, 14, 66, 231, 3, 1]\n",
    "print(shuffle)\n",
    "\n",
    "random.shuffle(shuffle) # 리스트의 순서를 무작위로 재정렬.\n",
    "print(shuffle)"
   ]
  },
  {
   "cell_type": "code",
   "execution_count": 34,
   "metadata": {},
   "outputs": [
    {
     "name": "stdout",
     "output_type": "stream",
     "text": [
      "[123, 1]\n",
      "[7, 4, 32, 6, 23, 1]\n"
     ]
    }
   ],
   "source": [
    "a =  random.sample(data, 2) # 리스트 data의 원소 중에서 무작위로 두 개를 추출한다.\n",
    "print(a)\n",
    "lottary = random.sample(range(1, 45 + 1), 6) # range의 범위(1~45)에 있는 무작위 정수를 여섯 개 추출한다.\n",
    "print(lottary)"
   ]
  },
  {
   "cell_type": "code",
   "execution_count": 36,
   "metadata": {},
   "outputs": [
    {
     "name": "stdout",
     "output_type": "stream",
     "text": [
      "당신의 이름을 알려주세요: 윤주영\n",
      "윤주영 님은 타노스에 의해 사라졌습니다.\n"
     ]
    }
   ],
   "source": [
    "import random\n",
    "\n",
    "name = input('당신의 이름을 알려주세요: ')\n",
    "flag = random.randint(0, 1)\n",
    "\n",
    "if flag == 1:\n",
    "    print('%s 님은 살아 남았습니다.' %name)\n",
    "else:\n",
    "    print('%s 님은 타노스에 의해 사라졌습니다.' %name)"
   ]
  },
  {
   "cell_type": "code",
   "execution_count": 45,
   "metadata": {},
   "outputs": [
    {
     "name": "stdout",
     "output_type": "stream",
     "text": [
      "컴퓨터가 생각한 숫자를 맞춰보십시오. 몇일까요?: 60\n",
      "60보다 작습니다.\n",
      "컴퓨터가 생각한 숫자를 맞춰보십시오. 몇일까요?: 30\n",
      "30보다 작습니다.\n",
      "컴퓨터가 생각한 숫자를 맞춰보십시오. 몇일까요?: 20\n",
      "20보다 큽니다.\n",
      "컴퓨터가 생각한 숫자를 맞춰보십시오. 몇일까요?: 25\n",
      "25보다 큽니다.\n",
      "컴퓨터가 생각한 숫자를 맞춰보십시오. 몇일까요?: 28\n",
      "28보다 작습니다.\n",
      "컴퓨터가 생각한 숫자를 맞춰보십시오. 몇일까요?: 27\n",
      "정답은 27입니다. 맞히셨습니다.\n"
     ]
    }
   ],
   "source": [
    "import random\n",
    "\n",
    "correct = random.randint(1, 100)\n",
    "# count = 1\n",
    "#while count <= 10:\n",
    "    # count = count + 1\n",
    "while 1: # while 1 = 무한반복\n",
    "    ans = int(input('컴퓨터가 생각한 숫자를 맞춰보십시오. 몇일까요?: '))\n",
    "    if ans < correct:\n",
    "        print('%s보다 큽니다.' %ans)\n",
    "    elif ans > correct:\n",
    "        print('%s보다 작습니다.' %ans)\n",
    "    else:\n",
    "        print('정답은 %s입니다. 맞히셨습니다.' %correct)\n",
    "        break"
   ]
  },
  {
   "cell_type": "code",
   "execution_count": 59,
   "metadata": {},
   "outputs": [
    {
     "name": "stdout",
     "output_type": "stream",
     "text": [
      "반복할 횟수를 입력해 주세요: 100000\n",
      "원주율은 3.13792 이다.\n"
     ]
    }
   ],
   "source": [
    "#몬테카를로 기법\n",
    "import random\n",
    "count = 0\n",
    "\n",
    "n = int(input('반복할 횟수를 입력해 주세요: ')) #10만 번\n",
    "for i in range(n + 1):\n",
    "    x = random.random()\n",
    "    y = random.random()\n",
    "    dist = (x**2 + y**2)\n",
    "    if dist <= 1:\n",
    "        count = count + 1\n",
    "print('원주율은', 4*count/n, '이다.')"
   ]
  },
  {
   "cell_type": "code",
   "execution_count": null,
   "metadata": {},
   "outputs": [],
   "source": []
  }
 ],
 "metadata": {
  "kernelspec": {
   "display_name": "Python 3",
   "language": "python",
   "name": "python3"
  },
  "language_info": {
   "codemirror_mode": {
    "name": "ipython",
    "version": 3
   },
   "file_extension": ".py",
   "mimetype": "text/x-python",
   "name": "python",
   "nbconvert_exporter": "python",
   "pygments_lexer": "ipython3",
   "version": "3.6.5"
  }
 },
 "nbformat": 4,
 "nbformat_minor": 2
}
