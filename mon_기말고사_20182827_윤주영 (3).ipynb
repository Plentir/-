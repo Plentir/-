{
 "cells": [
  {
   "cell_type": "code",
   "execution_count": 4,
   "metadata": {},
   "outputs": [
    {
     "name": "stdout",
     "output_type": "stream",
     "text": [
      "8\n"
     ]
    }
   ],
   "source": [
    "#문제 1-1\n",
    "f = open('company.txt', 'r')\n",
    "f.readline()\n",
    "f.readline()\n",
    "\n",
    "cnt = 0\n",
    "for ln in f:\n",
    "    if ln.split()[1] == 'Supervisor':\n",
    "        cnt = cnt + 1\n",
    "\n",
    "f.close()\n",
    "print(cnt)"
   ]
  },
  {
   "cell_type": "code",
   "execution_count": 2,
   "metadata": {},
   "outputs": [
    {
     "name": "stdout",
     "output_type": "stream",
     "text": [
      "Momo\n",
      "Nari\n",
      "Sandro\n"
     ]
    }
   ],
   "source": [
    "#문제 1-2\n",
    "f = open('company.txt', 'r')\n",
    "f.readline()\n",
    "f.readline()\n",
    "\n",
    "for ln in f:\n",
    "    if ln.split()[1] == 'Officer' and ln.split()[-1] == 'engineer':\n",
    "        print(\"%s\" %ln.split()[0])\n",
    "\n",
    "f.close()"
   ]
  },
  {
   "cell_type": "code",
   "execution_count": 43,
   "metadata": {},
   "outputs": [],
   "source": [
    "#문제 1-3\n",
    "f = open('company.txt', 'r')\n",
    "f_o = open('pick.txt', 'w')\n",
    "f.readline()\n",
    "f.readline()\n",
    "\n",
    "for ln in f:\n",
    "    if int(ln.split()[-2]) >= 380:\n",
    "        f_o.write(\"%s_%s\\n\" %(ln.split()[0], ln.split()[-1]))\n",
    "\n",
    "f.close()\n",
    "f_o.close()"
   ]
  },
  {
   "cell_type": "markdown",
   "metadata": {},
   "source": [
    "---------------------------------"
   ]
  },
  {
   "cell_type": "code",
   "execution_count": 37,
   "metadata": {
    "code_folding": []
   },
   "outputs": [],
   "source": [
    "#문제 2\n",
    "def solution(a,b):\n",
    "    if 10000000 >= a >= -10000000 and 10000000 >= a >= -10000000:\n",
    "        \n",
    "        if a == b:\n",
    "            return a\n",
    "        \n",
    "        else:\n",
    "            rng = [a, b]\n",
    "            rng_sort = rng.sort()\n",
    "            res = 0\n",
    "            for n in range(rng[0], rng[1] + 1, 1):\n",
    "                res = res + n\n",
    "            return res\n",
    "        \n",
    "    else:\n",
    "        print(\"정의되지 않은 범위의 변수입니다.\")"
   ]
  },
  {
   "cell_type": "code",
   "execution_count": 38,
   "metadata": {},
   "outputs": [
    {
     "data": {
      "text/plain": [
       "55"
      ]
     },
     "execution_count": 38,
     "metadata": {},
     "output_type": "execute_result"
    }
   ],
   "source": [
    "solution(1,10)"
   ]
  },
  {
   "cell_type": "code",
   "execution_count": 39,
   "metadata": {},
   "outputs": [
    {
     "data": {
      "text/plain": [
       "55"
      ]
     },
     "execution_count": 39,
     "metadata": {},
     "output_type": "execute_result"
    }
   ],
   "source": [
    "solution(10,1)"
   ]
  },
  {
   "cell_type": "code",
   "execution_count": 40,
   "metadata": {},
   "outputs": [
    {
     "data": {
      "text/plain": [
       "12"
      ]
     },
     "execution_count": 40,
     "metadata": {},
     "output_type": "execute_result"
    }
   ],
   "source": [
    "solution(3,5)"
   ]
  },
  {
   "cell_type": "code",
   "execution_count": 41,
   "metadata": {},
   "outputs": [
    {
     "data": {
      "text/plain": [
       "12"
      ]
     },
     "execution_count": 41,
     "metadata": {},
     "output_type": "execute_result"
    }
   ],
   "source": [
    "solution(5,3)"
   ]
  },
  {
   "cell_type": "code",
   "execution_count": 35,
   "metadata": {},
   "outputs": [
    {
     "name": "stdout",
     "output_type": "stream",
     "text": [
      "정의되지 않은 범위의 변수입니다.\n"
     ]
    }
   ],
   "source": [
    "solution(100000000, 1)"
   ]
  },
  {
   "cell_type": "code",
   "execution_count": 42,
   "metadata": {},
   "outputs": [
    {
     "data": {
      "text/plain": [
       "3"
      ]
     },
     "execution_count": 42,
     "metadata": {},
     "output_type": "execute_result"
    }
   ],
   "source": [
    "solution(3, 3)"
   ]
  }
 ],
 "metadata": {
  "kernelspec": {
   "display_name": "Python 3",
   "language": "python",
   "name": "python3"
  },
  "language_info": {
   "codemirror_mode": {
    "name": "ipython",
    "version": 3
   },
   "file_extension": ".py",
   "mimetype": "text/x-python",
   "name": "python",
   "nbconvert_exporter": "python",
   "pygments_lexer": "ipython3",
   "version": "3.7.0"
  },
  "varInspector": {
   "cols": {
    "lenName": "10",
    "lenType": "10",
    "lenVar": 40
   },
   "kernels_config": {
    "python": {
     "delete_cmd_postfix": "",
     "delete_cmd_prefix": "del ",
     "library": "var_list.py",
     "varRefreshCmd": "print(var_dic_list())"
    },
    "r": {
     "delete_cmd_postfix": ") ",
     "delete_cmd_prefix": "rm(",
     "library": "var_list.r",
     "varRefreshCmd": "cat(var_dic_list()) "
    }
   },
   "types_to_exclude": [
    "module",
    "function",
    "builtin_function_or_method",
    "instance",
    "_Feature"
   ],
   "window_display": false
  }
 },
 "nbformat": 4,
 "nbformat_minor": 2
}
