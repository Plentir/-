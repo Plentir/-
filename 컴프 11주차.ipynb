{
 "cells": [
  {
   "cell_type": "markdown",
   "metadata": {},
   "source": [
    "List Comprehension?"
   ]
  },
  {
   "cell_type": "code",
   "execution_count": 2,
   "metadata": {},
   "outputs": [
    {
     "name": "stdout",
     "output_type": "stream",
     "text": [
      "[1, 2, 3, 4, 5]\n"
     ]
    }
   ],
   "source": [
    "l = list(range(1, 5 + 1))\n",
    "print(l)"
   ]
  },
  {
   "cell_type": "code",
   "execution_count": 3,
   "metadata": {},
   "outputs": [
    {
     "name": "stdout",
     "output_type": "stream",
     "text": [
      "[1, 2, 3, 4, 5]\n"
     ]
    }
   ],
   "source": [
    "l = []\n",
    "for i in range(1, 5 + 1):\n",
    "    l.append(i)\n",
    "print(l)"
   ]
  },
  {
   "cell_type": "code",
   "execution_count": 5,
   "metadata": {},
   "outputs": [
    {
     "name": "stdout",
     "output_type": "stream",
     "text": [
      "[1, 2, 3, 4, 5]\n"
     ]
    }
   ],
   "source": [
    "l = [i for i in range(1, 5 + 1)] #List Comprehension\n",
    "print(l)"
   ]
  },
  {
   "cell_type": "code",
   "execution_count": 6,
   "metadata": {},
   "outputs": [
    {
     "name": "stdout",
     "output_type": "stream",
     "text": [
      "[2, 4, 6, 8, 10]\n"
     ]
    }
   ],
   "source": [
    "l = [i*2 for i in range(1, 5 + 1)] #List Comprehension\n",
    "print(l)"
   ]
  },
  {
   "cell_type": "code",
   "execution_count": 7,
   "metadata": {},
   "outputs": [
    {
     "name": "stdout",
     "output_type": "stream",
     "text": [
      "[1, 3, 5]\n"
     ]
    }
   ],
   "source": [
    "l = []\n",
    "for n in range(1, 5 + 1):\n",
    "    if n % 2 == 1:\n",
    "        l.append(n)\n",
    "print(l)"
   ]
  },
  {
   "cell_type": "code",
   "execution_count": 8,
   "metadata": {},
   "outputs": [
    {
     "name": "stdout",
     "output_type": "stream",
     "text": [
      "[1, 3, 5]\n"
     ]
    }
   ],
   "source": [
    "l = [n for n in range(1, 5 + 1) if n % 2 == 1]\n",
    "print(l)"
   ]
  },
  {
   "cell_type": "code",
   "execution_count": 9,
   "metadata": {},
   "outputs": [
    {
     "name": "stdout",
     "output_type": "stream",
     "text": [
      "1 a\n",
      "1 b\n",
      "2 a\n",
      "2 b\n",
      "3 a\n",
      "3 b\n"
     ]
    }
   ],
   "source": [
    "l = [1, 2, 3]\n",
    "ll = ['a', 'b']\n",
    "for i in l:\n",
    "    for j in ll:\n",
    "        print(i, j)"
   ]
  },
  {
   "cell_type": "code",
   "execution_count": 10,
   "metadata": {},
   "outputs": [
    {
     "name": "stdout",
     "output_type": "stream",
     "text": [
      "[(1, 'a'), (1, 'b'), (2, 'a'), (2, 'b'), (3, 'a'), (3, 'b')]\n"
     ]
    }
   ],
   "source": [
    "l = [1, 2, 3]\n",
    "ll = ['a', 'b']\n",
    "lc = [(i, j) for i in l for j in ll]\n",
    "print(lc)"
   ]
  },
  {
   "cell_type": "code",
   "execution_count": 12,
   "metadata": {},
   "outputs": [
    {
     "name": "stdout",
     "output_type": "stream",
     "text": [
      "1 a\n",
      "1 b\n",
      "2 a\n",
      "2 b\n",
      "3 a\n",
      "3 b\n"
     ]
    }
   ],
   "source": [
    "for c, d in lc: #Unpacking을 이용해서 튜플 제\n",
    "    print(c, d)"
   ]
  },
  {
   "cell_type": "markdown",
   "metadata": {},
   "source": [
    "Dictionary Comprehension"
   ]
  },
  {
   "cell_type": "code",
   "execution_count": 14,
   "metadata": {},
   "outputs": [
    {
     "name": "stdout",
     "output_type": "stream",
     "text": [
      "{'s': 1, 't': 2, 'l': 1, 'e': 2, 'r': 1}\n"
     ]
    }
   ],
   "source": [
    "word = 'letters'\n",
    "cnt = {letter: word.count(letter) for letter in set(word)}\n",
    "print(cnt)"
   ]
  },
  {
   "cell_type": "markdown",
   "metadata": {},
   "source": [
    "튜플은 comprehension 없음. 리스트 comp를 이용하면 될 것임."
   ]
  },
  {
   "cell_type": "code",
   "execution_count": 17,
   "metadata": {},
   "outputs": [
    {
     "name": "stdout",
     "output_type": "stream",
     "text": [
      "Hi\n",
      "hello\n"
     ]
    }
   ],
   "source": [
    "def say():\n",
    "    print('Hi')\n",
    "    \n",
    "def say2():\n",
    "    print('hello')\n",
    "\n",
    "#함수 내부에서 함수 호출 가능함.\n",
    "\n",
    "def hello(say):\n",
    "    say()\n",
    "    \n",
    "hello(say)\n",
    "hello(say2)"
   ]
  },
  {
   "cell_type": "markdown",
   "metadata": {},
   "source": [
    "재귀 함수"
   ]
  },
  {
   "cell_type": "code",
   "execution_count": 23,
   "metadata": {},
   "outputs": [
    {
     "name": "stdout",
     "output_type": "stream",
     "text": [
      "hello world 10\n",
      "hello world 9\n",
      "hello world 8\n",
      "hello world 7\n",
      "hello world 6\n",
      "hello world 5\n",
      "hello world 4\n",
      "hello world 3\n",
      "hello world 2\n",
      "hello world 1\n"
     ]
    }
   ],
   "source": [
    "def hello(n):\n",
    "    if n == 0:\n",
    "        return #함수 종료 및 값 반환\n",
    "    print('hello world', n)\n",
    "    n = n - 1 #n 자체의 값을 줄여나가면서 일정 횟수만큼 반복\n",
    "    hello(n) #함수 재호출\n",
    "        \n",
    "hello(10)"
   ]
  },
  {
   "cell_type": "code",
   "execution_count": 30,
   "metadata": {},
   "outputs": [
    {
     "name": "stdout",
     "output_type": "stream",
     "text": [
      "Time left:  5 sec.\n",
      "Time left:  4 sec.\n",
      "Time left:  3 sec.\n",
      "Time left:  2 sec.\n",
      "Time left:  1 sec.\n",
      "End!\n"
     ]
    }
   ],
   "source": [
    "def cd(t):\n",
    "    if t == 0:\n",
    "        print('End!')\n",
    "        return\n",
    "    \n",
    "    else:\n",
    "        print('Time left: %2d sec.' %t)\n",
    "        cd(t - 1)\n",
    "\n",
    "cd(5)"
   ]
  },
  {
   "cell_type": "markdown",
   "metadata": {},
   "source": [
    "파이선 규약\n",
    "1. 뱀 형식: 변수와 함수명은 모두 소문자만 사용하여 이름을 붙인다.\n",
    "2. 낙타 형식: 클래스명은 띄어쓰기를 하지 않고 각 단어를 모두 붙이되, 각 단어의 첫 글자는 대문자로 쓴다."
   ]
  },
  {
   "cell_type": "code",
   "execution_count": 39,
   "metadata": {},
   "outputs": [
    {
     "ename": "UnboundLocalError",
     "evalue": "local variable 'res' referenced before assignment",
     "output_type": "error",
     "traceback": [
      "\u001b[0;31m---------------------------------------------------------------------------\u001b[0m",
      "\u001b[0;31mUnboundLocalError\u001b[0m                         Traceback (most recent call last)",
      "\u001b[0;32m<ipython-input-39-a0f02b362024>\u001b[0m in \u001b[0;36m<module>\u001b[0;34m()\u001b[0m\n\u001b[1;32m     12\u001b[0m         \u001b[0mfct\u001b[0m\u001b[0;34m(\u001b[0m\u001b[0mn\u001b[0m \u001b[0;34m-\u001b[0m \u001b[0;36m1\u001b[0m\u001b[0;34m)\u001b[0m\u001b[0;34m\u001b[0m\u001b[0m\n\u001b[1;32m     13\u001b[0m \u001b[0;34m\u001b[0m\u001b[0m\n\u001b[0;32m---> 14\u001b[0;31m \u001b[0mfct\u001b[0m\u001b[0;34m(\u001b[0m\u001b[0;36m10\u001b[0m\u001b[0;34m)\u001b[0m\u001b[0;34m\u001b[0m\u001b[0m\n\u001b[0m",
      "\u001b[0;32m<ipython-input-39-a0f02b362024>\u001b[0m in \u001b[0;36mfct\u001b[0;34m(n)\u001b[0m\n\u001b[1;32m      7\u001b[0m \u001b[0;34m\u001b[0m\u001b[0m\n\u001b[1;32m      8\u001b[0m     \u001b[0;32melse\u001b[0m\u001b[0;34m:\u001b[0m\u001b[0;34m\u001b[0m\u001b[0m\n\u001b[0;32m----> 9\u001b[0;31m         \u001b[0mres\u001b[0m \u001b[0;34m=\u001b[0m \u001b[0mres\u001b[0m \u001b[0;34m*\u001b[0m \u001b[0mn\u001b[0m\u001b[0;34m\u001b[0m\u001b[0m\n\u001b[0m\u001b[1;32m     10\u001b[0m         \u001b[0mprint\u001b[0m\u001b[0;34m(\u001b[0m\u001b[0mres\u001b[0m\u001b[0;34m)\u001b[0m\u001b[0;34m\u001b[0m\u001b[0m\n\u001b[1;32m     11\u001b[0m         \u001b[0;32mreturn\u001b[0m \u001b[0mres\u001b[0m\u001b[0;34m\u001b[0m\u001b[0m\n",
      "\u001b[0;31mUnboundLocalError\u001b[0m: local variable 'res' referenced before assignment"
     ]
    }
   ],
   "source": [
    "#팩토리얼 구하기(오류 뜸)\n",
    "def fct(n):\n",
    "    \n",
    "    if n == 0:\n",
    "        print(\"Result: %d! = %d\" %(n, res))\n",
    "        return\n",
    "    \n",
    "    else:\n",
    "        res = res * n\n",
    "        print(res)\n",
    "        return res\n",
    "        fct(n - 1)\n",
    "\n",
    "fct(10)"
   ]
  },
  {
   "cell_type": "code",
   "execution_count": null,
   "metadata": {},
   "outputs": [],
   "source": [
    "#팩토리얼 구하기(정답)\n",
    "def fct(n):\n",
    "    if n == 1:\n",
    "        return 1\n",
    "    \n",
    "    else:\n",
    "        return n * fct(n - 1)\n",
    "\n",
    "fct(5)"
   ]
  },
  {
   "cell_type": "markdown",
   "metadata": {},
   "source": [
    "##############################################################################################################"
   ]
  },
  {
   "cell_type": "code",
   "execution_count": 42,
   "metadata": {},
   "outputs": [
    {
     "name": "stdout",
     "output_type": "stream",
     "text": [
      "10\n",
      "None\n"
     ]
    }
   ],
   "source": [
    "def pp(n):\n",
    "    print(n)\n",
    "#return이 없어서 함수의 결과값이 없음\n",
    "\n",
    "res1 = pp(10)\n",
    "print((res1)) #함수의 결과값이 없어서 함수값을 사용할 수 없다. => none으로 출력"
   ]
  },
  {
   "cell_type": "code",
   "execution_count": 43,
   "metadata": {},
   "outputs": [
    {
     "name": "stdout",
     "output_type": "stream",
     "text": [
      "10\n"
     ]
    }
   ],
   "source": [
    "def pp(n):\n",
    "    return n\n",
    "#return에 의해 함수의 결과값이 n으로 정의됨.\n",
    "\n",
    "res2 = pp(10)\n",
    "print((res2)) #함수값이 n으로 정의되어 있다. => n을 출력."
   ]
  },
  {
   "cell_type": "markdown",
   "metadata": {},
   "source": [
    "##############################################################################################################"
   ]
  },
  {
   "cell_type": "code",
   "execution_count": 46,
   "metadata": {},
   "outputs": [
    {
     "data": {
      "text/plain": [
       "10"
      ]
     },
     "execution_count": 46,
     "metadata": {},
     "output_type": "execute_result"
    }
   ],
   "source": [
    "def cnt_mol(file):\n",
    "    f = open(file, 'r')\n",
    "    n_mol = 0\n",
    "    \n",
    "    for i in f:\n",
    "        if '$$$$' in i:\n",
    "            n_mol = n_mol + 1\n",
    "            \n",
    "    return n_mol\n",
    "\n",
    "cnt_mol('mols.sdf')"
   ]
  },
  {
   "cell_type": "code",
   "execution_count": null,
   "metadata": {},
   "outputs": [],
   "source": [
    "#어떤 sdf 파일에서 n개의 분자만 잘라서 저장하는 함수.\n",
    "def cut_mol(in_,out_,n):\n",
    "    f_in = open(in_, 'r')\n",
    "    f_out = open(out_, 'w')\n",
    "    \n",
    "    for i in f:\n",
    "        if len(i.split()) == 11:\n",
    "            "
   ]
  },
  {
   "cell_type": "code",
   "execution_count": 53,
   "metadata": {},
   "outputs": [],
   "source": [
    "#어떤 sdf 파일에서 n개의 분자만 잘라서 저장하는 함수.\n",
    "def cut_mol(in_,out_,n):\n",
    "    f_in = open(in_, 'r')\n",
    "    f_out = open(out_, 'w')\n",
    "    cnt = 0\n",
    "    \n",
    "    for i in f_in:\n",
    "        f_out.write(i)\n",
    "        if '$$$$' in i:\n",
    "            cnt = cnt + 1\n",
    "            if cnt == n:\n",
    "                break\n",
    "    \n",
    "    f_in.close()\n",
    "    f_out.close()\n",
    "    \n",
    "cut_mol('mols.sdf', 'cut_mol.sdf', 5)"
   ]
  },
  {
   "cell_type": "code",
   "execution_count": 54,
   "metadata": {},
   "outputs": [],
   "source": [
    "def spc_atm(mol):\n",
    "    atom_box = []\n",
    "    an = mol[3].split()[0]\n",
    "    atom_info = mol[4: 4 + int(an)]\n",
    "    for a in atom_info:\n",
    "        atom_box.append(a.split()[3])\n",
    "        \n",
    "    return atom_box"
   ]
  },
  {
   "cell_type": "code",
   "execution_count": null,
   "metadata": {},
   "outputs": [],
   "source": [
    "    \n",
    "    for line in f:\n",
    "        mol.append(line)\n",
    "        if '$$$$' in line:\n",
    "            atom_box = []\n",
    "            an = mol[3].split()[0]\n",
    "            atom_info = mol[4 : 4 + int(an)]\n",
    "            for a in atom_info:\n",
    "                atom_box.append(a.split()[3])\n",
    "            print(atom_box)\n",
    "            mol = []"
   ]
  }
 ],
 "metadata": {
  "kernelspec": {
   "display_name": "Python 3",
   "language": "python",
   "name": "python3"
  },
  "language_info": {
   "codemirror_mode": {
    "name": "ipython",
    "version": 3
   },
   "file_extension": ".py",
   "mimetype": "text/x-python",
   "name": "python",
   "nbconvert_exporter": "python",
   "pygments_lexer": "ipython3",
   "version": "3.6.5"
  }
 },
 "nbformat": 4,
 "nbformat_minor": 2
}
