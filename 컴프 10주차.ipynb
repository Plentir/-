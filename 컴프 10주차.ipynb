{
 "cells": [
  {
   "cell_type": "code",
   "execution_count": 10,
   "metadata": {},
   "outputs": [
    {
     "name": "stdout",
     "output_type": "stream",
     "text": [
      "8\n",
      "7\n",
      "['C', 'C', 'Cl', 'Cl', 'F', 'F', 'F', 'H']\n",
      "152\n"
     ]
    }
   ],
   "source": [
    "f = open('one_mol.sdf', 'r')\n",
    "\n",
    "a = f.readlines()\n",
    "mol_atm = a[3].split()[0]\n",
    "num_atm = a[3].split()[1]\n",
    "spc_atm = a[4: (int(num_atm) + 4) + 1]\n",
    "atm = []\n",
    "\n",
    "for i in spc_atm:\n",
    "    atm.append(i.split()[3])\n",
    "\n",
    "m_atm = {'H': 1, 'C': 12, 'N': 14, 'O': 16, 'F': 19, 'Cl': 35}\n",
    "w_atm = 0\n",
    "\n",
    "for p in atm:\n",
    "    w_atm = w_atm + m_atm[p]\n",
    "\n",
    "print(mol_atm)\n",
    "print(num_atm)\n",
    "print(atm)\n",
    "print(w_atm)"
   ]
  },
  {
   "cell_type": "code",
   "execution_count": null,
   "metadata": {},
   "outputs": [],
   "source": [
    "f = open('mols.sdf', 'r')\n",
    "m_atm = {'H': 1, 'C': 12, 'N': 14, 'O': 16, 'F': 19, 'Cl': 35}\n",
    "cnt = 0\n",
    "\n",
    "for line in f:\n",
    "    if '$$$$' in line:\n",
    "        cnt = cnt + 1\n",
    "print(cnt) #파일 안에 있는 분자의 개수\n",
    "\n"
   ]
  },
  {
   "cell_type": "code",
   "execution_count": 23,
   "metadata": {},
   "outputs": [
    {
     "ename": "KeyError",
     "evalue": "'10\\n'",
     "output_type": "error",
     "traceback": [
      "\u001b[0;31m---------------------------------------------------------------------------\u001b[0m",
      "\u001b[0;31mKeyError\u001b[0m                                  Traceback (most recent call last)",
      "\u001b[0;32m<ipython-input-23-8217a44aab3a>\u001b[0m in \u001b[0;36m<module>\u001b[0;34m()\u001b[0m\n\u001b[1;32m     16\u001b[0m         \u001b[0;31m#한 분자의 분자량\u001b[0m\u001b[0;34m\u001b[0m\u001b[0;34m\u001b[0m\u001b[0m\n\u001b[1;32m     17\u001b[0m         \u001b[0;32mfor\u001b[0m \u001b[0mb\u001b[0m \u001b[0;32min\u001b[0m \u001b[0matm\u001b[0m\u001b[0;34m:\u001b[0m\u001b[0;34m\u001b[0m\u001b[0m\n\u001b[0;32m---> 18\u001b[0;31m             \u001b[0mw_atm\u001b[0m \u001b[0;34m=\u001b[0m \u001b[0mw_atm\u001b[0m \u001b[0;34m+\u001b[0m \u001b[0mint\u001b[0m\u001b[0;34m(\u001b[0m\u001b[0mm_atm\u001b[0m\u001b[0;34m[\u001b[0m\u001b[0mb\u001b[0m\u001b[0;34m]\u001b[0m\u001b[0;34m)\u001b[0m\u001b[0;34m\u001b[0m\u001b[0m\n\u001b[0m\u001b[1;32m     19\u001b[0m \u001b[0;34m\u001b[0m\u001b[0m\n\u001b[1;32m     20\u001b[0m         \u001b[0mw_atms\u001b[0m\u001b[0;34m.\u001b[0m\u001b[0mappend\u001b[0m\u001b[0;34m(\u001b[0m\u001b[0mw_atm\u001b[0m\u001b[0;34m)\u001b[0m\u001b[0;34m\u001b[0m\u001b[0m\n",
      "\u001b[0;31mKeyError\u001b[0m: '10\\n'"
     ]
    }
   ],
   "source": [
    "f = open('mols.sdf', 'r')\n",
    "\n",
    "m_atm = {'H': 1, 'C': 12, 'N': 14, 'O': 16, 'F': 19, 'Cl': 35}\n",
    "w_atms = [] #각 분자의 분자량\n",
    "atm = []\n",
    "w_atm = 0\n",
    "\n",
    "for line in f:\n",
    "    atm.append(line)\n",
    "    if '$$$$' in line:\n",
    "        mol_atm = atm[3].split()[0]\n",
    "        spc_atm = atm[4: int(mol_atm) + 5]\n",
    "        for a in spc_atm:\n",
    "            atm.append(a.split()[3])\n",
    "        \n",
    "        #한 분자의 분자량\n",
    "        for b in atm:\n",
    "            w_atm = w_atm + int(m_atm[b])\n",
    "        \n",
    "        w_atms.append(w_atm)\n",
    "\n"
   ]
  },
  {
   "cell_type": "code",
   "execution_count": 22,
   "metadata": {},
   "outputs": [
    {
     "name": "stdout",
     "output_type": "stream",
     "text": [
      "[161, 191, 180, 100, 150, 260, 198, 197, 232, 152]\n"
     ]
    }
   ],
   "source": [
    "f = open('mols.sdf','r')\n",
    "aw_dic = {'H':1,'C':12,'F':19,'Cl':35,'N':14,'Br':80,'O':16}\n",
    "mw_box = [] #각 분자의 분자량 넣는다\n",
    "one_mol =[] #분자 하나씩 담아 처리\n",
    "atom_box = [] #각 분자의 원자만 담아 처리 \n",
    "mw = 0\n",
    "\n",
    "for line in f:\n",
    "    one_mol.append(line)\n",
    "    if '$$$$' in line:\n",
    "        an = one_mol[3].split()[0]\n",
    "        atom_info = one_mol[4:4+int(an)]\n",
    "        \n",
    "        for a in atom_info :            \n",
    "            atom_box.append(a.split()[3])\n",
    "            \n",
    "        for atom in atom_box :\n",
    "            aw = aw_dic[atom]\n",
    "            mw = mw+aw\n",
    "            \n",
    "        mw_box.append(mw)\n",
    "        mw= 0\n",
    "        one_mol =[]\n",
    "        atom_box = []         \n",
    "print(mw_box)"
   ]
  },
  {
   "cell_type": "markdown",
   "metadata": {},
   "source": [
    "이상 9주차 나머지 내용"
   ]
  },
  {
   "cell_type": "markdown",
   "metadata": {},
   "source": [
    "# 10주차"
   ]
  },
  {
   "cell_type": "code",
   "execution_count": 29,
   "metadata": {},
   "outputs": [
    {
     "name": "stdout",
     "output_type": "stream",
     "text": [
      "10\n"
     ]
    }
   ],
   "source": [
    "a = [1, 2, 3, 4, 5, 6, 7, 8, 9, 10]\n",
    "idx = 9\n",
    "\n",
    "try:\n",
    "    print(a[idx])\n",
    "except:\n",
    "    print('0 ~ %d 사이의 주소 값이 필요합니다.' %(len(a)-1))"
   ]
  },
  {
   "cell_type": "code",
   "execution_count": 40,
   "metadata": {},
   "outputs": [
    {
     "name": "stdout",
     "output_type": "stream",
     "text": [
      "0 ~ 9 사이의 주소 값이 필요합니다.\n"
     ]
    }
   ],
   "source": [
    "a = [1, 2, 3, 4, 5, 6, 7, 8, 9, 10]\n",
    "idx = 11\n",
    "d = 0\n",
    "\n",
    "try:\n",
    "    print(a[idx]/d)\n",
    "    \n",
    "except IndexError: #콜론 앞에 에러의 종류를 넣으면 그 종류의 에러가 발생했을 때만 하위 구문을 실행한다.\n",
    "    print('0 ~ %d 사이의 주소 값이 필요합니다.' %(len(a)-1)) #except의 하위 구문을 pass로 하면 오류를 무시한다.\n",
    "    #pass\n",
    "\n",
    "except ZeroDivisionError:\n",
    "    #print('0으로 나눴습니다.')\n",
    "    pass\n",
    "\n",
    "else: #에러가 발생하지 않았을 때.\n",
    "    print('No errors.')"
   ]
  },
  {
   "cell_type": "code",
   "execution_count": 44,
   "metadata": {},
   "outputs": [
    {
     "name": "stdout",
     "output_type": "stream",
     "text": [
      "14\n",
      "None\n"
     ]
    }
   ],
   "source": [
    "def tot(a, b):\n",
    "    c = a + b\n",
    "    print(c)\n",
    "    #return c #def로 정의된 함수는 함숫값을 갖고 있지 않는다. 따라서 return을 이용하여 함수의 결과값을 특정 변수에 저장한다.\n",
    "\n",
    "a = tot(3, 11) #print(c)에 의해 14를 출력한다.\n",
    "print(a) #None을 출력한다. 함숫값을 실제로 갖고 있는 것이 아니기 때문."
   ]
  },
  {
   "cell_type": "code",
   "execution_count": 47,
   "metadata": {},
   "outputs": [
    {
     "name": "stdout",
     "output_type": "stream",
     "text": [
      "a 1\n",
      "b 3\n",
      "c 10\n",
      "n 4\n",
      "40\n"
     ]
    }
   ],
   "source": [
    "def tot(a, b, c = 10):\n",
    "    print('a', a)\n",
    "    print('b', b)\n",
    "    print('c', c)\n",
    "    n = a + b\n",
    "    print('n', n)\n",
    "    \n",
    "    return (n*c)\n",
    "\n",
    "print(tot(1, 3))"
   ]
  },
  {
   "cell_type": "code",
   "execution_count": 48,
   "metadata": {},
   "outputs": [],
   "source": [
    "def tot(*n): #자료의 개수가 몇 개인지 모를 때에는 *(변수명)으로 표시한다. 이때, *를 사용하여 입력받은 자료들은 하나의 튜플에 저장된다.\n",
    "    t = 0\n",
    "    for i in n:\n",
    "        t = t + i\n",
    "    return t"
   ]
  },
  {
   "cell_type": "code",
   "execution_count": 49,
   "metadata": {},
   "outputs": [
    {
     "data": {
      "text/plain": [
       "7024"
      ]
     },
     "execution_count": 49,
     "metadata": {},
     "output_type": "execute_result"
    }
   ],
   "source": [
    "tot(10, 2, 1313, 44, 21, 5634)"
   ]
  },
  {
   "cell_type": "code",
   "execution_count": 54,
   "metadata": {},
   "outputs": [],
   "source": [
    "def mtp(a, *b):\n",
    "    if a == 'sum':\n",
    "        result = 0\n",
    "        for i in b:\n",
    "            result = result + i\n",
    "    \n",
    "    elif a == 'mul':\n",
    "        result = 1\n",
    "        for i in b:\n",
    "            result = result*i\n",
    "    return result"
   ]
  },
  {
   "cell_type": "code",
   "execution_count": 55,
   "metadata": {},
   "outputs": [
    {
     "name": "stdout",
     "output_type": "stream",
     "text": [
      "41\n",
      "100800\n"
     ]
    }
   ],
   "source": [
    "a = mtp('sum', 2, 3, 5, 6, 7, 8, 10)\n",
    "print(a)\n",
    "\n",
    "b = mtp('mul', 2, 3, 5, 6, 7, 8, 10)\n",
    "print(b)"
   ]
  },
  {
   "cell_type": "code",
   "execution_count": 57,
   "metadata": {},
   "outputs": [
    {
     "name": "stdout",
     "output_type": "stream",
     "text": [
      "9\n",
      "20\n"
     ]
    }
   ],
   "source": [
    "def test(a, b):\n",
    "    return a+b, a*b\n",
    "\n",
    "x, y = test(4, 5) #한 번에 여러 개의 값을 가질 수 있고 이는 언패킹이 가능하다.\n",
    "print(x)\n",
    "print(y)"
   ]
  },
  {
   "cell_type": "code",
   "execution_count": 58,
   "metadata": {},
   "outputs": [
    {
     "name": "stdout",
     "output_type": "stream",
     "text": [
      "9\n"
     ]
    }
   ],
   "source": [
    "def test(a, b):\n",
    "    return a+b\n",
    "    return a*b\n",
    "\n",
    "x = test(4, 5)\n",
    "print(x)"
   ]
  },
  {
   "cell_type": "code",
   "execution_count": 59,
   "metadata": {},
   "outputs": [
    {
     "name": "stdout",
     "output_type": "stream",
     "text": [
      "11\n",
      "1\n"
     ]
    }
   ],
   "source": [
    "a = 1\n",
    "def test(a):\n",
    "    a = a + 1\n",
    "    print(a)\n",
    "\n",
    "test(10)\n",
    "print(a) #함수에서 사용하는 변수는 함수 밖의 영역에서 사용하는 변수와 이름이 같더라도 서로 다른 것으로 취급한다."
   ]
  },
  {
   "cell_type": "markdown",
   "metadata": {},
   "source": [
    "# 다시 9주차"
   ]
  },
  {
   "cell_type": "code",
   "execution_count": 69,
   "metadata": {},
   "outputs": [
    {
     "name": "stdout",
     "output_type": "stream",
     "text": [
      "8\n",
      "7\n",
      "['C', 'C', 'Cl', 'Cl', 'F', 'F', 'F', 'H']\n",
      "152\n",
      "{'C': 5, 'Cl': 4, 'F': 6, 'H': 2}\n"
     ]
    }
   ],
   "source": [
    "f = open('one_mol.sdf', 'r')\n",
    "\n",
    "a = f.readlines()\n",
    "mol_atm = a[3].split()[0]\n",
    "num_atm = a[3].split()[1]\n",
    "spc_atm = a[4: (int(num_atm) + 4) + 1]\n",
    "atm = []\n",
    "\n",
    "for i in spc_atm:\n",
    "    atm.append(i.split()[3])\n",
    "\n",
    "m_atm = {'H': 1, 'C': 12, 'N': 14, 'O': 16, 'F': 19, 'Cl': 35}\n",
    "w_atm = 0\n",
    "\n",
    "for p in atm:\n",
    "    w_atm = w_atm + m_atm[p]\n",
    "\n",
    "for q in atm:\n",
    "    if q in frq_atm:\n",
    "        n = frq_atm[q]\n",
    "        frq_atm[q] = n + 1\n",
    "    else:\n",
    "        frq_atm[q] = 1\n",
    "    \n",
    "print(mol_atm)\n",
    "print(num_atm)\n",
    "print(atm)\n",
    "print(w_atm)\n",
    "print(frq_atm)"
   ]
  },
  {
   "cell_type": "code",
   "execution_count": null,
   "metadata": {},
   "outputs": [],
   "source": []
  },
  {
   "cell_type": "code",
   "execution_count": null,
   "metadata": {},
   "outputs": [],
   "source": []
  },
  {
   "cell_type": "code",
   "execution_count": null,
   "metadata": {},
   "outputs": [],
   "source": []
  },
  {
   "cell_type": "code",
   "execution_count": null,
   "metadata": {},
   "outputs": [],
   "source": []
  },
  {
   "cell_type": "code",
   "execution_count": null,
   "metadata": {},
   "outputs": [],
   "source": [
    "for a in atom_info:\n",
    "    atom = a.split()[3]\n",
    "    if atom in at_appear:\n",
    "        n = at_appear[atom]\n",
    "        at_appear[atom] = n + 1\n",
    "    else:\n",
    "        at_appear[atom] = 1"
   ]
  },
  {
   "cell_type": "code",
   "execution_count": null,
   "metadata": {},
   "outputs": [],
   "source": []
  },
  {
   "cell_type": "code",
   "execution_count": null,
   "metadata": {},
   "outputs": [],
   "source": []
  },
  {
   "cell_type": "code",
   "execution_count": null,
   "metadata": {},
   "outputs": [],
   "source": []
  }
 ],
 "metadata": {
  "kernelspec": {
   "display_name": "Python 3",
   "language": "python",
   "name": "python3"
  },
  "language_info": {
   "codemirror_mode": {
    "name": "ipython",
    "version": 3
   },
   "file_extension": ".py",
   "mimetype": "text/x-python",
   "name": "python",
   "nbconvert_exporter": "python",
   "pygments_lexer": "ipython3",
   "version": "3.6.5"
  }
 },
 "nbformat": 4,
 "nbformat_minor": 2
}
