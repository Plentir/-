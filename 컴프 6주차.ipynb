{
 "cells": [
  {
   "cell_type": "code",
   "execution_count": 1,
   "metadata": {},
   "outputs": [
    {
     "data": {
      "text/plain": [
       "[4, 3, 2, 1]"
      ]
     },
     "execution_count": 1,
     "metadata": {},
     "output_type": "execute_result"
    }
   ],
   "source": [
    "a = [1, 2, 3, 4]\n",
    "a[::-1]    "
   ]
  },
  {
   "cell_type": "code",
   "execution_count": 2,
   "metadata": {},
   "outputs": [
    {
     "name": "stdout",
     "output_type": "stream",
     "text": [
      "[1, 3, 251, 753]\n"
     ]
    }
   ],
   "source": [
    "# 자연수 753의 약수를 구하는 코드를 작성하시오.\n",
    "\n",
    "a = 753\n",
    "res = []\n",
    "\n",
    "for i in range(1, a + 1):\n",
    "    if a%i == 0:\n",
    "        res.append(i)\n",
    "\n",
    "print(res)"
   ]
  },
  {
   "cell_type": "code",
   "execution_count": 5,
   "metadata": {},
   "outputs": [
    {
     "name": "stdout",
     "output_type": "stream",
     "text": [
      "8\n"
     ]
    }
   ],
   "source": [
    "# a = [11, 5, 2, 22, 10, 9, 8]에서 7과 가까운 a의 원소를 출력하는 코드를 작성하시오.\n",
    "\n",
    "a = [11, 5, 2, 22, 10, 9, 8]\n",
    "ct = a[0]\n",
    "\n",
    "for i in a:\n",
    "    dis = abs(7 - i)\n",
    "    if dis < abs(ct - 7):\n",
    "        ct = i\n",
    "\n",
    "print(ct)"
   ]
  },
  {
   "cell_type": "code",
   "execution_count": 9,
   "metadata": {},
   "outputs": [
    {
     "name": "stdout",
     "output_type": "stream",
     "text": [
      "75\n"
     ]
    }
   ],
   "source": [
    "# a = [2, 7, 22, 1, 5, 65, 12, 34, 75]에서 최댓값을 출력하는 코드를 작성하시오.\n",
    "\n",
    "a = [2, 7, 22, 1, 5, 65, 12, 34 ,75, 13, 45]\n",
    "ct = a[0]\n",
    "\n",
    "for i in a:\n",
    "    if ct < i:\n",
    "        ct = i\n",
    "\n",
    "print(ct)"
   ]
  },
  {
   "cell_type": "code",
   "execution_count": null,
   "metadata": {},
   "outputs": [],
   "source": [
    "# a = [2, 7, 22, 1, 5, 65, 12, 34, 75]를 오름차순으로 정렬하여 b라는 리스트로 만드시오.\n",
    "import copy\n",
    "\n",
    "a = [2, 7, 22, 1, 5, 65, 12, 34, 75, 64, 13]\n",
    "aa = copy.deepcopy(a)\n",
    "b = []\n",
    "\n",
    "while len(aa) != 0:\n",
    "    mn = a[0]\n",
    "    if i < ct:\n",
    "        \n",
    "        b.append(i)\n",
    "        aa.remove(i)"
   ]
  },
  {
   "cell_type": "code",
   "execution_count": 12,
   "metadata": {},
   "outputs": [
    {
     "name": "stdout",
     "output_type": "stream",
     "text": [
      "비밀번호를 입력해 주세요: 132141313512512\n",
      "132141313512512\n",
      "문이 열렸습니다.\n"
     ]
    }
   ],
   "source": [
    "# 도어락 비밀번호\n",
    "import copy\n",
    "\n",
    "pw = input('비밀번호를 입력해 주세요: ')\n",
    "pww = copy.deepcopy(pw)\n",
    "print(pww)\n",
    "rpw = '7536'\n",
    "\n",
    "if pww.replace(rpw, '0000') != pw:\n",
    "    print('옳지 않은 비밀번호입니다.')\n",
    "    \n",
    "else:\n",
    "    print('문이 열렸습니다.')"
   ]
  },
  {
   "cell_type": "code",
   "execution_count": null,
   "metadata": {},
   "outputs": [],
   "source": []
  },
  {
   "cell_type": "code",
   "execution_count": null,
   "metadata": {},
   "outputs": [],
   "source": []
  }
 ],
 "metadata": {
  "kernelspec": {
   "display_name": "Python 3",
   "language": "python",
   "name": "python3"
  },
  "language_info": {
   "codemirror_mode": {
    "name": "ipython",
    "version": 3
   },
   "file_extension": ".py",
   "mimetype": "text/x-python",
   "name": "python",
   "nbconvert_exporter": "python",
   "pygments_lexer": "ipython3",
   "version": "3.7.0"
  }
 },
 "nbformat": 4,
 "nbformat_minor": 2
}
