{
 "cells": [
  {
   "cell_type": "code",
   "execution_count": 1,
   "metadata": {},
   "outputs": [
    {
     "name": "stdout",
     "output_type": "stream",
     "text": [
      "[2, 7, 22, 5, 65, 12, 34, 75]\n",
      "[1]\n"
     ]
    }
   ],
   "source": [
    "a = [2, 7, 22, 1, 5, 65, 12, 34, 75]\n",
    "b = []\n",
    "minn = a[0]\n",
    "\n",
    "for m in a:\n",
    "    if m < minn:\n",
    "        b.append(m)\n",
    "        minn = m\n",
    "        a.remove(m)\n",
    "\n",
    "print(a)\n",
    "print(b)"
   ]
  },
  {
   "cell_type": "code",
   "execution_count": 3,
   "metadata": {},
   "outputs": [
    {
     "name": "stdout",
     "output_type": "stream",
     "text": [
      "[1, 2, 5, 7, 12, 22, 34, 65, 75]\n"
     ]
    }
   ],
   "source": [
    "#강사님 답\n",
    "a = [2, 7, 22, 1, 5, 65, 12, 34, 75]\n",
    "b = []\n",
    "minn = a[0]\n",
    "\n",
    "while len(a) != 0:\n",
    "    minn = a[0]\n",
    "    for m in a:\n",
    "        if m < minn:\n",
    "            minn = m\n",
    "    b.append(minn)\n",
    "    a.remove(minn) #내가 고친 부분.\n",
    "\n",
    "print(b)"
   ]
  },
  {
   "cell_type": "code",
   "execution_count": 13,
   "metadata": {},
   "outputs": [
    {
     "name": "stdout",
     "output_type": "stream",
     "text": [
      "[60, 20, 10, 45, 90, 100, 15]\n",
      "[3, 5, 7, 4, 2, 1, 6]\n"
     ]
    }
   ],
   "source": [
    "import copy\n",
    "\n",
    "a = [60, 20, 10, 45, 90, 100, 15]\n",
    "aa = copy.deepcopy(a)\n",
    "grade = [0] * len(a)\n",
    "g = 0\n",
    "\n",
    "while len(aa) != 0:\n",
    "    g = g + 1\n",
    "    mx = aa[0]\n",
    "    for m in aa:\n",
    "        if m > mx:\n",
    "            mx = m\n",
    "    aa.remove(mx)\n",
    "    adrs = aa.index(mx)\n",
    "    grade[adrs] = g\n",
    "    #aa.remove(mx)\n",
    "\n",
    "print(a)\n",
    "print(grade)"
   ]
  },
  {
   "cell_type": "code",
   "execution_count": 11,
   "metadata": {},
   "outputs": [
    {
     "name": "stdout",
     "output_type": "stream",
     "text": [
      "[3, 5, 7, 4, 2, 1, 6]\n"
     ]
    }
   ],
   "source": [
    "#강사님 답\n",
    "a = [60, 20, 10, 45, 90, 100, 15]\n",
    "aa = copy.deepcopy(a)\n",
    "grade = [0] * len(a)\n",
    "g = 0\n",
    "\n",
    "while len(aa) != 0:\n",
    "    g = g + 1\n",
    "    maxx = aa[0]\n",
    "    for i in aa:\n",
    "        if maxx < i:\n",
    "            maxx = i\n",
    "    aa.remove(maxx)\n",
    "    idx = a.index(maxx)\n",
    "    grade[idx] = g\n",
    "\n",
    "print(grade)"
   ]
  },
  {
   "cell_type": "code",
   "execution_count": 21,
   "metadata": {},
   "outputs": [
    {
     "name": "stdout",
     "output_type": "stream",
     "text": [
      "4294967296\n",
      "4294967296\n"
     ]
    }
   ],
   "source": [
    "a = 16\n",
    "n = 8\n",
    "res = 1\n",
    "\n",
    "while n != 0:\n",
    "    n = n - 1\n",
    "    res = res * a\n",
    "\n",
    "print(res)\n",
    "print(pow(16, 8))"
   ]
  },
  {
   "cell_type": "code",
   "execution_count": 22,
   "metadata": {},
   "outputs": [
    {
     "name": "stdout",
     "output_type": "stream",
     "text": [
      "4294967296\n",
      "4294967296\n"
     ]
    }
   ],
   "source": [
    "#강사님 답\n",
    "a = 16\n",
    "n = 8\n",
    "res = 1\n",
    "\n",
    "for i in range(n):\n",
    "    res = res * a\n",
    "\n",
    "print(res)\n",
    "print(pow(a, n))"
   ]
  },
  {
   "cell_type": "code",
   "execution_count": 23,
   "metadata": {},
   "outputs": [
    {
     "name": "stdout",
     "output_type": "stream",
     "text": [
      "[6, 28, 496]\n"
     ]
    }
   ],
   "source": [
    "#시험 문제랑 비슷함\n",
    "#Q. 1000 이하의 완전수는?\n",
    "n = 1000\n",
    "res = []\n",
    "\n",
    "for i in range(2, n + 1):\n",
    "    div = []\n",
    "    for r in range(1, i):\n",
    "        if i % r == 0:\n",
    "            div.append(r)\n",
    "            \n",
    "    if sum(div) == i:\n",
    "        res.append(i)\n",
    "\n",
    "print(res)"
   ]
  },
  {
   "cell_type": "code",
   "execution_count": 24,
   "metadata": {},
   "outputs": [
    {
     "name": "stdout",
     "output_type": "stream",
     "text": [
      "[6, 28, 496]\n"
     ]
    }
   ],
   "source": [
    "#sum() 함수를 쓰지 않은 경우.\n",
    "n = 1000\n",
    "res = []\n",
    "\n",
    "for i in range(2, n + 1):\n",
    "    div = []\n",
    "    suum = 0\n",
    "    for r in range(1, i):\n",
    "        if i % r == 0:\n",
    "            div.append(r)\n",
    "            \n",
    "    for v in div:\n",
    "        suum = suum + v\n",
    "        \n",
    "    if suum == i:\n",
    "        res.append(i)\n",
    "\n",
    "print(res)"
   ]
  },
  {
   "cell_type": "code",
   "execution_count": 26,
   "metadata": {},
   "outputs": [
    {
     "name": "stdout",
     "output_type": "stream",
     "text": [
      "[6, 28, 496]\n"
     ]
    }
   ],
   "source": [
    "#강사님 답\n",
    "n = 1000\n",
    "res = []\n",
    "\n",
    "for i in range(2, n + 1):\n",
    "    suum = 0\n",
    "    for r in range(1, i): # 완전수는 자기 자신을 제외한 약수만 필요하므로 1 ~ (i - 1) 범위로 잡는다.\n",
    "        if i % r == 0:\n",
    "            suum = suum + r\n",
    "            \n",
    "    if suum == i:\n",
    "        res.append(i)\n",
    "\n",
    "print(res)"
   ]
  },
  {
   "cell_type": "code",
   "execution_count": 28,
   "metadata": {},
   "outputs": [
    {
     "ename": "SyntaxError",
     "evalue": "invalid syntax (<ipython-input-28-62515fe176b9>, line 8)",
     "output_type": "error",
     "traceback": [
      "\u001b[0;36m  File \u001b[0;32m\"<ipython-input-28-62515fe176b9>\"\u001b[0;36m, line \u001b[0;32m8\u001b[0m\n\u001b[0;31m    if\u001b[0m\n\u001b[0m       ^\u001b[0m\n\u001b[0;31mSyntaxError\u001b[0m\u001b[0;31m:\u001b[0m invalid syntax\n"
     ]
    }
   ],
   "source": [
    "import random\n",
    "phand - chand == 3 -> 비김\n",
    "phand + chand == 5 ->\n",
    "\n",
    "chand = {0 : '가위', 1 : '바위', 2 : '보'}\n",
    "phand = {'가위' : 3, '바위' : 4, '보' : 5}\n",
    "\n",
    "while 1:\n",
    "    com = random.randint(0, 2)\n",
    "    p1 = phand(input('가위, 바위, 보 중에서 무엇을 내시겠습니까? : '))\n",
    "    if p1 == com:\n",
    "        print('컴퓨터도 %s를 냈습니다. 비겼습니다.' %chand(com))\n",
    "    elif "
   ]
  },
  {
   "cell_type": "code",
   "execution_count": 32,
   "metadata": {},
   "outputs": [
    {
     "name": "stdout",
     "output_type": "stream",
     "text": [
      "가위, 바위, 보 중에서 무엇을 내시겠습니까? : 바위\n",
      "당신은 바위를 냈고 컴퓨터는 보를 냈습니다.\n",
      "당신이 졌습니다.\n",
      "가위, 바위, 보 중에서 무엇을 내시겠습니까? : 바위\n",
      "당신은 바위를 냈고 컴퓨터는 가위를 냈습니다.\n",
      "당신이 이겼습니다.\n"
     ]
    }
   ],
   "source": [
    "win_dic = {'가위' : '보', '바위' : '가위', '보' : '바위'}\n",
    "com = ['가위', '바위', '보']\n",
    "\n",
    "while 1:\n",
    "    me = input('가위, 바위, 보 중에서 무엇을 내시겠습니까? : ')\n",
    "    co = random.choice(com)\n",
    "    print('당신은 %s를 냈고 컴퓨터는 %s를 냈습니다.' %(me, co))\n",
    "    \n",
    "    if me == co:\n",
    "        print('무승부입니다.')\n",
    "    elif co == win_dic[me]:\n",
    "        print('당신이 이겼습니다.')\n",
    "        break\n",
    "    else:\n",
    "        print('당신이 졌습니다.')"
   ]
  }
 ],
 "metadata": {
  "kernelspec": {
   "display_name": "Python 3",
   "language": "python",
   "name": "python3"
  },
  "language_info": {
   "codemirror_mode": {
    "name": "ipython",
    "version": 3
   },
   "file_extension": ".py",
   "mimetype": "text/x-python",
   "name": "python",
   "nbconvert_exporter": "python",
   "pygments_lexer": "ipython3",
   "version": "3.6.5"
  }
 },
 "nbformat": 4,
 "nbformat_minor": 2
}
