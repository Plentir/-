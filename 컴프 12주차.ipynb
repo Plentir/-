{
 "cells": [
  {
   "cell_type": "code",
   "execution_count": 2,
   "metadata": {},
   "outputs": [],
   "source": [
    "#class: 함수와　변수를　묶어준다．"
   ]
  },
  {
   "cell_type": "code",
   "execution_count": 16,
   "metadata": {},
   "outputs": [
    {
     "name": "stdout",
     "output_type": "stream",
     "text": [
      "---------------------------------------------------\n",
      "Name : dasd\n",
      "e-Mail : yjy990810\n",
      "addr : dasd\n",
      "---------------------------------------------------\n"
     ]
    }
   ],
   "source": [
    "def card(name, addr, email):\n",
    "    print(\"---------------------------------------------------\")\n",
    "    print(\"Name :\", name)\n",
    "    print(\"e-Mail :\", email)\n",
    "    print(\"addr :\", addr)\n",
    "    print(\"---------------------------------------------------\")\n",
    "    \n",
    "card(\"dasd\",\"dasd\",\"yjy990810\")"
   ]
  },
  {
   "cell_type": "code",
   "execution_count": 11,
   "metadata": {},
   "outputs": [],
   "source": [
    "class Bussiness_Card():\n",
    "    def __init__(self, name, email, addr): #인스턴스 생성과 동시에 실행되는 메소드, self는 클래스에서 생성된 인스턴스들을 가리킨다．\n",
    "        self.name = name\n",
    "        self.email = email\n",
    "        self.addr = addr\n",
    "    \n",
    "    def card1(self): #Mathod: 클래스 내부의 함수\n",
    "        print(\"---------------------------\")\n",
    "        print(\"NAME: \", self.name)\n",
    "        print(\"eMAIL: \", self.email)\n",
    "        print(\"ADDR: \", self.addr)\n",
    "        print(\"---------------------------\")\n",
    "        \n",
    "    def card2(self): #Mathod: 클래스 내부의 함수\n",
    "        print(\"＊-＊-＊-＊-＊-＊-＊-＊-＊-＊-＊-＊-＊-＊-＊\")\n",
    "        print(\"＊-＊-＊---------＊-＊＊-＊---------＊-＊-＊\")\n",
    "        print(\"NAME: \", self.name)\n",
    "        print(\"eMAIL: \", self.email)\n",
    "        print(\"ADDR: \", self.addr)\n",
    "        print(\"＊-＊-＊-＊-＊-＊-＊-＊-＊-＊-＊-＊-＊-＊-＊\")"
   ]
  },
  {
   "cell_type": "code",
   "execution_count": 15,
   "metadata": {},
   "outputs": [
    {
     "ename": "TypeError",
     "evalue": "object() takes no parameters",
     "output_type": "error",
     "traceback": [
      "\u001b[0;31m---------------------------------------------------------------------------\u001b[0m",
      "\u001b[0;31mTypeError\u001b[0m                                 Traceback (most recent call last)",
      "\u001b[0;32m<ipython-input-15-4a0a107ee74e>\u001b[0m in \u001b[0;36m<module>\u001b[0;34m()\u001b[0m\n\u001b[0;32m----> 1\u001b[0;31m \u001b[0mg1\u001b[0m \u001b[0;34m=\u001b[0m \u001b[0mBussiness_Card\u001b[0m\u001b[0;34m(\u001b[0m\u001b[0;34m\"cheolsu\"\u001b[0m\u001b[0;34m,\u001b[0m \u001b[0;34m\"cjftncjftn@naver.com\"\u001b[0m\u001b[0;34m,\u001b[0m \u001b[0;34m\"seoul\"\u001b[0m\u001b[0;34m)\u001b[0m\u001b[0;34m\u001b[0m\u001b[0m\n\u001b[0m",
      "\u001b[0;31mTypeError\u001b[0m: object() takes no parameters"
     ]
    }
   ],
   "source": [
    "g1 = Bussiness_Card(\"cheolsu\", \"cjftncjftn@naver.com\", \"seoul\")"
   ]
  },
  {
   "cell_type": "code",
   "execution_count": 47,
   "metadata": {},
   "outputs": [],
   "source": [
    "#손님이 들어오면 맛과 몸통에 넣을 토핑 １, 꼬리에 넣을 토핑 ２ 선택할 수 있다. 붕어빵은 그냥 붕어빵/미니 붕어빵/대왕 붕어빵\n",
    "class bapng():\n",
    "    def __init__(self, flv, top1, top2):\n",
    "        self.flv = flv\n",
    "        self.top1 = top1\n",
    "        self.top2 = top2\n",
    "        \n",
    "    def bap(self):\n",
    "        print(self.top1 + '과' + self.top2 + '토핑을 추가한' + self.flv + '맛 그냥 붕어빵 나왔습니다.')\n",
    "\n",
    "    def bap_mini(self):\n",
    "        print(self.top1 + '과' + self.top2 + '토핑을 추가한' + self.flv + '맛 미니 붕어빵 나왔습니다.')\n",
    "        \n",
    "    def bap_big(self):\n",
    "        print(self.top1 + '과' + self.top2 + '토핑을 추가한' + self.flv + '맛 대왕 붕어빵 나왔습니다.')"
   ]
  },
  {
   "cell_type": "code",
   "execution_count": 48,
   "metadata": {},
   "outputs": [],
   "source": [
    "g1 = bapng('밀가루', '붕어', '팥')"
   ]
  },
  {
   "cell_type": "code",
   "execution_count": 50,
   "metadata": {},
   "outputs": [
    {
     "name": "stdout",
     "output_type": "stream",
     "text": [
      "밀가루\n",
      "붕어\n",
      "팥\n"
     ]
    }
   ],
   "source": [
    "print(g1.flv)\n",
    "print(g1.top1)\n",
    "print(g1.top2)"
   ]
  },
  {
   "cell_type": "code",
   "execution_count": null,
   "metadata": {},
   "outputs": [],
   "source": []
  },
  {
   "cell_type": "code",
   "execution_count": null,
   "metadata": {},
   "outputs": [],
   "source": []
  },
  {
   "cell_type": "code",
   "execution_count": 33,
   "metadata": {},
   "outputs": [
    {
     "data": {
      "text/plain": [
       "4"
      ]
     },
     "execution_count": 33,
     "metadata": {},
     "output_type": "execute_result"
    }
   ],
   "source": [
    "def power(a, b):\n",
    "    a = a * a\n",
    "    \n",
    "    if b == 0:\n",
    "        return a\n",
    "        \n",
    "    else:\n",
    "        return power(a, b - 1)\n",
    "\n",
    "power(4, 3)"
   ]
  },
  {
   "cell_type": "code",
   "execution_count": 46,
   "metadata": {},
   "outputs": [
    {
     "name": "stdout",
     "output_type": "stream",
     "text": [
      "비밀번호를 입력해 주십시오.12353464578567834563425234\n",
      "틀린 비밀번호입니다.\n",
      "비밀번호를 입력해 주십시오.123513464577536\n",
      "문이 열렸습니다.\n"
     ]
    }
   ],
   "source": [
    "pw_in = str(input(\"비밀번호를 입력해 주십시오.\"))\n",
    "pw = 7536\n",
    "\n",
    "while 1:    \n",
    "    if pw_in == str(pw):\n",
    "        print('문이 열렸습니다.')\n",
    "        break        \n",
    "    \n",
    "    elif len(pw_in.split(str(pw))) != 1:\n",
    "        print('문이 열렸습니다.')\n",
    "        break\n",
    "\n",
    "    else:\n",
    "        print('틀린 비밀번호입니다.')\n",
    "        pw_in = str(input(\"비밀번호를 입력해 주십시오.\"))"
   ]
  }
 ],
 "metadata": {
  "kernelspec": {
   "display_name": "Python 3",
   "language": "python",
   "name": "python3"
  },
  "language_info": {
   "codemirror_mode": {
    "name": "ipython",
    "version": 3
   },
   "file_extension": ".py",
   "mimetype": "text/x-python",
   "name": "python",
   "nbconvert_exporter": "python",
   "pygments_lexer": "ipython3",
   "version": "3.6.5"
  }
 },
 "nbformat": 4,
 "nbformat_minor": 2
}
