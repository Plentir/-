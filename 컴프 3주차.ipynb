{
 "cells": [
  {
   "cell_type": "code",
   "execution_count": 1,
   "metadata": {},
   "outputs": [
    {
     "data": {
      "text/plain": [
       "int"
      ]
     },
     "execution_count": 1,
     "metadata": {},
     "output_type": "execute_result"
    }
   ],
   "source": [
    "a = 123\n",
    "type(a)"
   ]
  },
  {
   "cell_type": "code",
   "execution_count": 2,
   "metadata": {},
   "outputs": [
    {
     "data": {
      "text/plain": [
       "float"
      ]
     },
     "execution_count": 2,
     "metadata": {},
     "output_type": "execute_result"
    }
   ],
   "source": [
    "a=123.0\n",
    "type(a)"
   ]
  },
  {
   "cell_type": "code",
   "execution_count": 3,
   "metadata": {},
   "outputs": [
    {
     "data": {
      "text/plain": [
       "str"
      ]
     },
     "execution_count": 3,
     "metadata": {},
     "output_type": "execute_result"
    }
   ],
   "source": [
    "a = 'Hello!'\n",
    "type(a)"
   ]
  },
  {
   "cell_type": "code",
   "execution_count": 4,
   "metadata": {},
   "outputs": [
    {
     "data": {
      "text/plain": [
       "list"
      ]
     },
     "execution_count": 4,
     "metadata": {},
     "output_type": "execute_result"
    }
   ],
   "source": [
    "a = ['Hello']\n",
    "type(a)"
   ]
  },
  {
   "cell_type": "code",
   "execution_count": 6,
   "metadata": {},
   "outputs": [
    {
     "data": {
      "text/plain": [
       "tuple"
      ]
     },
     "execution_count": 6,
     "metadata": {},
     "output_type": "execute_result"
    }
   ],
   "source": [
    "a = (1, )\n",
    "b = [1]\n",
    "type(a)"
   ]
  },
  {
   "cell_type": "code",
   "execution_count": 7,
   "metadata": {},
   "outputs": [
    {
     "data": {
      "text/plain": [
       "list"
      ]
     },
     "execution_count": 7,
     "metadata": {},
     "output_type": "execute_result"
    }
   ],
   "source": [
    "type(b)"
   ]
  },
  {
   "cell_type": "markdown",
   "metadata": {},
   "source": [
    "# 자료형 변환\n",
    "type()\n",
    "str()\n",
    "int()\n",
    "list()"
   ]
  },
  {
   "cell_type": "code",
   "execution_count": 8,
   "metadata": {},
   "outputs": [
    {
     "name": "stdout",
     "output_type": "stream",
     "text": [
      "<class 'int'>\n"
     ]
    }
   ],
   "source": [
    "n = 13\n",
    "print(type(n))"
   ]
  },
  {
   "cell_type": "code",
   "execution_count": 10,
   "metadata": {},
   "outputs": [
    {
     "name": "stdout",
     "output_type": "stream",
     "text": [
      "<class 'str'>\n"
     ]
    }
   ],
   "source": [
    "n = str(n)\n",
    "print(type(n))"
   ]
  },
  {
   "cell_type": "code",
   "execution_count": 11,
   "metadata": {},
   "outputs": [
    {
     "name": "stdout",
     "output_type": "stream",
     "text": [
      "<class 'tuple'>\n"
     ]
    }
   ],
   "source": [
    "t = (1, 2, 3)\n",
    "print(type(t))"
   ]
  },
  {
   "cell_type": "code",
   "execution_count": 12,
   "metadata": {},
   "outputs": [
    {
     "name": "stdout",
     "output_type": "stream",
     "text": [
      "<class 'list'>\n"
     ]
    }
   ],
   "source": [
    "t = list(t)\n",
    "print(type(t))"
   ]
  },
  {
   "cell_type": "code",
   "execution_count": 13,
   "metadata": {},
   "outputs": [
    {
     "name": "stdout",
     "output_type": "stream",
     "text": [
      "[1, 1, 1, 1, 2, 2, 3, 3, 4, 5, 1, 4, 7]\n"
     ]
    }
   ],
   "source": [
    "a = [1, 1, 1, 1, 2, 2, 3, 3, 4, 5, 1, 4, 7]\n",
    "print(a)"
   ]
  },
  {
   "cell_type": "code",
   "execution_count": 15,
   "metadata": {},
   "outputs": [
    {
     "name": "stdout",
     "output_type": "stream",
     "text": [
      "{1, 2, 3, 4, 5, 7}\n"
     ]
    }
   ],
   "source": [
    "a = set(a) #리스트의 중복 제거\n",
    "print(a)\n",
    "#set은 리스트도 중괄호를 사용하여 출력한다,"
   ]
  },
  {
   "cell_type": "code",
   "execution_count": 16,
   "metadata": {},
   "outputs": [
    {
     "name": "stdout",
     "output_type": "stream",
     "text": [
      "8\n"
     ]
    }
   ],
   "source": [
    "lista = [1, 2, 612, 23, 2146, 1236, 122, 512]\n",
    "print(len(lista))"
   ]
  },
  {
   "cell_type": "code",
   "execution_count": 17,
   "metadata": {},
   "outputs": [
    {
     "name": "stdout",
     "output_type": "stream",
     "text": [
      "3\n"
     ]
    }
   ],
   "source": [
    "a = 'abc'\n",
    "print(len(a))"
   ]
  },
  {
   "cell_type": "code",
   "execution_count": 24,
   "metadata": {},
   "outputs": [
    {
     "name": "stdout",
     "output_type": "stream",
     "text": [
      "1\n"
     ]
    }
   ],
   "source": [
    "a = {'apple': 10}\n",
    "print(len(a))"
   ]
  },
  {
   "cell_type": "code",
   "execution_count": 25,
   "metadata": {},
   "outputs": [
    {
     "name": "stdout",
     "output_type": "stream",
     "text": [
      "{'l', '!', ' ', 'o', 'r', 'w', 'h', 'd', 'e'}\n"
     ]
    }
   ],
   "source": [
    "a = set('hello world!')\n",
    "print(a)"
   ]
  },
  {
   "cell_type": "code",
   "execution_count": 28,
   "metadata": {},
   "outputs": [
    {
     "name": "stdout",
     "output_type": "stream",
     "text": [
      "{'l', 'y', 't', ' ', 'o', 'n', 'p', 'h', 'e'}\n"
     ]
    },
    {
     "ename": "TypeError",
     "evalue": "'set' object does not support indexing",
     "output_type": "error",
     "traceback": [
      "\u001b[0;31m---------------------------------------------------------------------------\u001b[0m",
      "\u001b[0;31mTypeError\u001b[0m                                 Traceback (most recent call last)",
      "\u001b[0;32m<ipython-input-28-e95caf767ff7>\u001b[0m in \u001b[0;36m<module>\u001b[0;34m()\u001b[0m\n\u001b[1;32m      1\u001b[0m \u001b[0mb\u001b[0m \u001b[0;34m=\u001b[0m \u001b[0mset\u001b[0m\u001b[0;34m(\u001b[0m\u001b[0;34m'hello python'\u001b[0m\u001b[0;34m)\u001b[0m\u001b[0;34m\u001b[0m\u001b[0m\n\u001b[1;32m      2\u001b[0m \u001b[0mprint\u001b[0m\u001b[0;34m(\u001b[0m\u001b[0mb\u001b[0m\u001b[0;34m)\u001b[0m\u001b[0;34m\u001b[0m\u001b[0m\n\u001b[0;32m----> 3\u001b[0;31m \u001b[0mprint\u001b[0m\u001b[0;34m(\u001b[0m\u001b[0mb\u001b[0m\u001b[0;34m[\u001b[0m\u001b[0;36m1\u001b[0m\u001b[0;34m]\u001b[0m\u001b[0;34m)\u001b[0m\u001b[0;34m\u001b[0m\u001b[0m\n\u001b[0m",
      "\u001b[0;31mTypeError\u001b[0m: 'set' object does not support indexing"
     ]
    }
   ],
   "source": [
    "b = set('hello python')\n",
    "print(b)\n",
    "print(b[1]) #set은 인덱싱 불가"
   ]
  },
  {
   "cell_type": "code",
   "execution_count": 30,
   "metadata": {},
   "outputs": [
    {
     "name": "stdout",
     "output_type": "stream",
     "text": [
      "['l', 'y', 't', ' ', 'o', 'n', 'p', 'h', 'e']\n",
      "y\n"
     ]
    }
   ],
   "source": [
    "b = list(b)\n",
    "print(b)\n",
    "print(b[1])"
   ]
  },
  {
   "cell_type": "code",
   "execution_count": 33,
   "metadata": {},
   "outputs": [
    {
     "name": "stdout",
     "output_type": "stream",
     "text": [
      "{'l', 'y', '!', 't', ' ', 'o', 'n', 'r', 'w', 'p', 'h', 'd', 'e'}\n",
      "{'l', ' ', 'o', 'e', 'h'}\n",
      "{'!', 'd', 'r', 'w'}\n",
      "{'y', 't', '!', 'n', 'r', 'w', 'p', 'd'}\n"
     ]
    }
   ],
   "source": [
    "a = set('hello world!')\n",
    "b = set('hello python')\n",
    "print(a | b) #합집합\n",
    "print(a & b) #교집합\n",
    "print(a - b) #차집합\n",
    "print(a ^ b) #합집합-교집합"
   ]
  },
  {
   "cell_type": "code",
   "execution_count": 34,
   "metadata": {},
   "outputs": [
    {
     "name": "stdout",
     "output_type": "stream",
     "text": [
      "0\n",
      "1\n",
      "2\n",
      "[0, 1, 2]\n"
     ]
    }
   ],
   "source": [
    "num = [0, 1, 2]\n",
    "for n in num :\n",
    "    print(n)\n",
    "print(num)"
   ]
  },
  {
   "cell_type": "code",
   "execution_count": 35,
   "metadata": {
    "scrolled": false
   },
   "outputs": [
    {
     "name": "stdout",
     "output_type": "stream",
     "text": [
      "0\n",
      "[0, 1, 2]\n",
      "1\n",
      "[0, 1, 2]\n",
      "2\n",
      "[0, 1, 2]\n"
     ]
    }
   ],
   "source": [
    "num = [0, 1, 2]\n",
    "for n in num :\n",
    "    print(n)\n",
    "    print(num)"
   ]
  },
  {
   "cell_type": "code",
   "execution_count": 39,
   "metadata": {},
   "outputs": [
    {
     "name": "stdout",
     "output_type": "stream",
     "text": [
      "3\n",
      "6\n",
      "9\n"
     ]
    }
   ],
   "source": [
    "for i in range(3, 9 + 1, 3) : #range(a, b+1, c): a부터 b까지, a에 c씩 더하면서 수열을 만든다.\n",
    "    print(i)"
   ]
  },
  {
   "cell_type": "code",
   "execution_count": 45,
   "metadata": {},
   "outputs": [
    {
     "ename": "TypeError",
     "evalue": "'int' object is not subscriptable",
     "output_type": "error",
     "traceback": [
      "\u001b[0;31m---------------------------------------------------------------------------\u001b[0m",
      "\u001b[0;31mTypeError\u001b[0m                                 Traceback (most recent call last)",
      "\u001b[0;32m<ipython-input-45-3eb36d7d19e4>\u001b[0m in \u001b[0;36m<module>\u001b[0;34m()\u001b[0m\n\u001b[1;32m      1\u001b[0m \u001b[0mbox\u001b[0m \u001b[0;34m=\u001b[0m \u001b[0;34m[\u001b[0m\u001b[0;34m'boll'\u001b[0m\u001b[0;34m,\u001b[0m \u001b[0;34m'boll'\u001b[0m\u001b[0;34m,\u001b[0m \u001b[0;34m'boll'\u001b[0m\u001b[0;34m,\u001b[0m \u001b[0;34m'boll'\u001b[0m\u001b[0;34m]\u001b[0m\u001b[0;34m\u001b[0m\u001b[0m\n\u001b[1;32m      2\u001b[0m \u001b[0;32mfor\u001b[0m \u001b[0mi\u001b[0m \u001b[0;32min\u001b[0m \u001b[0mrange\u001b[0m\u001b[0;34m(\u001b[0m\u001b[0;36m3\u001b[0m\u001b[0;34m+\u001b[0m\u001b[0;36m1\u001b[0m\u001b[0;34m)\u001b[0m \u001b[0;34m:\u001b[0m\u001b[0;34m\u001b[0m\u001b[0m\n\u001b[0;32m----> 3\u001b[0;31m     \u001b[0mbox\u001b[0m\u001b[0;34m[\u001b[0m\u001b[0mi\u001b[0m\u001b[0;34m[\u001b[0m\u001b[0;36m1\u001b[0m\u001b[0;34m]\u001b[0m\u001b[0;34m]\u001b[0m \u001b[0;34m=\u001b[0m \u001b[0;34m'a'\u001b[0m\u001b[0;34m\u001b[0m\u001b[0m\n\u001b[0m",
      "\u001b[0;31mTypeError\u001b[0m: 'int' object is not subscriptable"
     ]
    }
   ],
   "source": [
    "box = ['boll', 'boll', 'boll', 'boll']\n",
    "for i in range(3+1) :\n",
    "    box[i[1]] = 'a'"
   ]
  },
  {
   "cell_type": "code",
   "execution_count": 46,
   "metadata": {},
   "outputs": [
    {
     "name": "stdout",
     "output_type": "stream",
     "text": [
      "['ball', 'boll', 'boll', 'boll']\n",
      "['ball', 'ball', 'boll', 'boll']\n",
      "['ball', 'ball', 'ball', 'boll']\n",
      "['ball', 'ball', 'ball', 'ball']\n"
     ]
    }
   ],
   "source": [
    "box = ['boll', 'boll', 'boll', 'boll']\n",
    "for i in range(3+1) :\n",
    "    box[i] = 'ball'\n",
    "    print(box)"
   ]
  },
  {
   "cell_type": "code",
   "execution_count": 3,
   "metadata": {},
   "outputs": [
    {
     "name": "stdout",
     "output_type": "stream",
     "text": [
      "2 x 1 = 2\n",
      "2 x 2 = 4\n",
      "2 x 3 = 6\n",
      "2 x 4 = 8\n",
      "2 x 5 = 10\n",
      "2 x 6 = 12\n",
      "2 x 7 = 14\n",
      "2 x 8 = 16\n",
      "2 x 9 = 18\n"
     ]
    }
   ],
   "source": [
    "for n in range(1, 9+1):\n",
    "    res = 2*n\n",
    "    print('2', 'x', n, '=', res)"
   ]
  },
  {
   "cell_type": "code",
   "execution_count": 2,
   "metadata": {},
   "outputs": [
    {
     "name": "stdout",
     "output_type": "stream",
     "text": [
      "2 x 1 = 2\n",
      "2 x 2 = 4\n",
      "2 x 3 = 6\n",
      "2 x 4 = 8\n",
      "2 x 5 = 10\n",
      "2 x 6 = 12\n",
      "2 x 7 = 14\n",
      "2 x 8 = 16\n",
      "2 x 9 = 18\n"
     ]
    }
   ],
   "source": [
    "for n in range(1, 9+1):\n",
    "    print('2', 'x', n, '=', 2*n)"
   ]
  },
  {
   "cell_type": "code",
   "execution_count": 4,
   "metadata": {},
   "outputs": [
    {
     "name": "stdout",
     "output_type": "stream",
     "text": [
      "True\n",
      "False\n"
     ]
    }
   ],
   "source": [
    "print(True)\n",
    "print(False) #True, False는 사전에 지정된 키워드이기 때문에 따옴표를 쓰지 않고 대문자로 써서 문자형으로 나타낼 수 있다."
   ]
  },
  {
   "cell_type": "markdown",
   "metadata": {},
   "source": [
    "# 비교 연산자\n",
    "'>' 크다\n",
    "'<' 작다\n",
    "'>=' 크거나 같다\n",
    "'<=' 작거나 같다\n",
    "'==' 같다\n",
    "'!=' 같지 않다"
   ]
  },
  {
   "cell_type": "code",
   "execution_count": 5,
   "metadata": {},
   "outputs": [
    {
     "name": "stdout",
     "output_type": "stream",
     "text": [
      "False\n"
     ]
    }
   ],
   "source": [
    "print(2!=2)"
   ]
  },
  {
   "cell_type": "code",
   "execution_count": 6,
   "metadata": {},
   "outputs": [
    {
     "name": "stdout",
     "output_type": "stream",
     "text": [
      "True\n"
     ]
    }
   ],
   "source": [
    "print(2>1)"
   ]
  },
  {
   "cell_type": "code",
   "execution_count": 11,
   "metadata": {},
   "outputs": [
    {
     "name": "stdout",
     "output_type": "stream",
     "text": [
      "B\n"
     ]
    }
   ],
   "source": [
    "score = 77\n",
    "if 80 < score <= 100:\n",
    "    print('A')\n",
    "elif 60 < score <= 80:\n",
    "    print('B')\n",
    "elif 40 < score <= 60:\n",
    "    print('C')\n",
    "elif 20 < score <= 40:\n",
    "    print('D')\n",
    "else:\n",
    "    print('F')"
   ]
  },
  {
   "cell_type": "code",
   "execution_count": 14,
   "metadata": {},
   "outputs": [
    {
     "name": "stdout",
     "output_type": "stream",
     "text": [
      "1\n",
      "2\n",
      "I = 3\n",
      "4\n",
      "5\n"
     ]
    }
   ],
   "source": [
    "a = [1, 2, 3, 4, 5]\n",
    "for i in a:\n",
    "    if i == 3:\n",
    "        print('I = 3')\n",
    "    else:\n",
    "        print(i)"
   ]
  },
  {
   "cell_type": "code",
   "execution_count": 18,
   "metadata": {},
   "outputs": [
    {
     "name": "stdout",
     "output_type": "stream",
     "text": [
      "1 은(는) 홀수\n",
      "7 은(는) 홀수\n",
      "10 은(는) 짝수\n",
      "5 은(는) 홀수\n",
      "8 은(는) 짝수\n",
      "2 은(는) 짝수\n",
      "7 은(는) 홀수\n",
      "짝수는 총 3 개\n"
     ]
    }
   ],
   "source": [
    "a = [1, 7, 10, 5, 8, 2, 7]\n",
    "count = 0\n",
    "for i in a:\n",
    "    if i%2 == 0:\n",
    "        print(i,'은(는) 짝수')\n",
    "        count = count + 1\n",
    "    else:\n",
    "        print(i, '은(는) 홀수')\n",
    "print('짝수는 총', count, '개')"
   ]
  },
  {
   "cell_type": "code",
   "execution_count": 19,
   "metadata": {},
   "outputs": [
    {
     "name": "stdout",
     "output_type": "stream",
     "text": [
      "1 은(는) 홀수\n",
      "7 은(는) 홀수\n",
      "10 은(는) 짝수\n",
      "5 은(는) 홀수\n",
      "8 은(는) 짝수\n",
      "2 은(는) 짝수\n",
      "7 은(는) 홀수\n",
      "짝수는 총 3 개\n"
     ]
    }
   ],
   "source": [
    "a = [1, 7, 10, 5, 8, 2, 7]\n",
    "count = []\n",
    "for i in a:\n",
    "    if i%2 == 0:\n",
    "        print(i,'은(는) 짝수')\n",
    "        count.append(i)\n",
    "    else:\n",
    "        print(i, '은(는) 홀수')\n",
    "print('짝수는 총', len(count), '개')"
   ]
  },
  {
   "cell_type": "code",
   "execution_count": 23,
   "metadata": {},
   "outputs": [
    {
     "name": "stdout",
     "output_type": "stream",
     "text": [
      "입장권의 총 가격은 47000원이다.\n"
     ]
    }
   ],
   "source": [
    "people= [22, 21, 17, 32, 4, 28, 19, 8]\n",
    "count_adults = 0\n",
    "count_students = 0\n",
    "count_kids = 0\n",
    "\n",
    "for age in people:\n",
    "    if age >= 20:\n",
    "        count_adults = count_adults + 1\n",
    "    elif 10 <= age < 20:\n",
    "        count_students = count_students + 1\n",
    "    else:\n",
    "        count_kids = count_kids + 1\n",
    "\n",
    "total_price = count_adults*8000 + count_students*5000 + count_kids*2500\n",
    "print('입장권의 총 가격은 %d원이다.' %total_price)\n",
    "#변수가 너무 많아서 별로 좋지 않은 코드"
   ]
  },
  {
   "cell_type": "code",
   "execution_count": 25,
   "metadata": {},
   "outputs": [
    {
     "name": "stdout",
     "output_type": "stream",
     "text": [
      "입장권의 총 가격은 47000원이다.\n"
     ]
    }
   ],
   "source": [
    "people= [22, 21, 17, 32, 4, 28, 19, 8]\n",
    "total_price = 0\n",
    "\n",
    "for age in people:\n",
    "    if age >= 20:\n",
    "        total_price = total_price + 8000\n",
    "    elif 10 <= age < 20:\n",
    "        total_price = total_price + 5000\n",
    "    else:\n",
    "        total_price = total_price + 2500\n",
    "\n",
    "print('입장권의 총 가격은 %d원이다.' %total_price)\n",
    "#변수를 적게 사용한 좋은 코드"
   ]
  },
  {
   "cell_type": "code",
   "execution_count": 26,
   "metadata": {},
   "outputs": [
    {
     "name": "stdout",
     "output_type": "stream",
     "text": [
      "Passed\n"
     ]
    }
   ],
   "source": [
    "at_s = 90\n",
    "te_s = 70\n",
    "if at_s >= 80 or te_s >= 70:\n",
    "    print('Passed')"
   ]
  },
  {
   "cell_type": "code",
   "execution_count": 29,
   "metadata": {},
   "outputs": [
    {
     "name": "stdout",
     "output_type": "stream",
     "text": [
      "t1 Hi!\n",
      "t2 Hi!\n",
      "t3 Hi!\n"
     ]
    }
   ],
   "source": [
    "turtle = ['t1', 't2', 't3', 't4', 't5']\n",
    "\n",
    "for i in turtle[:3]:\n",
    "    print(i, 'Hi!')"
   ]
  },
  {
   "cell_type": "code",
   "execution_count": 30,
   "metadata": {
    "scrolled": true
   },
   "outputs": [
    {
     "name": "stdout",
     "output_type": "stream",
     "text": [
      "t1 Hi!\n",
      "t2 Hi!\n",
      "t3 Hi!\n"
     ]
    }
   ],
   "source": [
    "turtle = ['t1', 't2', 't3', 't4', 't5']\n",
    "count = 0\n",
    "while count < 3:\n",
    "    print(turtle[count], 'Hi!') #turtle이란 리스트 내에서 요소를 차례대로 하나씩 바꿔나가는 역할이 [count]에 있음.\n",
    "    count = count + 1"
   ]
  },
  {
   "cell_type": "code",
   "execution_count": 44,
   "metadata": {},
   "outputs": [
    {
     "name": "stdout",
     "output_type": "stream",
     "text": [
      "현재 1번째 게임입니다.\n",
      "지금까지 게임에 사용한 금액은 총 3000원 입니다.\n",
      "현재 2번째 게임입니다.\n",
      "지금까지 게임에 사용한 금액은 총 6000원 입니다.\n",
      "현재 3번째 게임입니다.\n",
      "지금까지 게임에 사용한 금액은 총 9000원 입니다.\n",
      "현재 4번째 게임입니다.\n",
      "지금까지 게임에 사용한 금액은 총 12000원 입니다.\n",
      "현재 5번째 게임입니다.\n",
      "지금까지 게임에 사용한 금액은 총 15000원 입니다.\n",
      "현재 6번째 게임입니다.\n",
      "지금까지 게임에 사용한 금액은 총 18000원 입니다.\n",
      "현재 7번째 게임입니다.\n",
      "지금까지 게임에 사용한 금액은 총 21000원 입니다.\n",
      "현재 8번째 게임입니다.\n",
      "지금까지 게임에 사용한 금액은 총 24000원 입니다.\n",
      "현재 9번째 게임입니다.\n",
      "지금까지 게임에 사용한 금액은 총 27000원 입니다.\n",
      "현재 10번째 게임입니다.\n",
      "지금까지 게임에 사용한 금액은 총 30000원 입니다.\n",
      "현재 11번째 게임입니다.\n",
      "지금까지 게임에 사용한 금액은 총 33000원 입니다.\n",
      "현재 12번째 게임입니다.\n",
      "지금까지 게임에 사용한 금액은 총 36000원 입니다.\n",
      "현재 13번째 게임입니다.\n",
      "지금까지 게임에 사용한 금액은 총 39000원 입니다.\n",
      "게임이 모두 끝났습니다. 진행한 총 게임 수는 13회 입니다.\n"
     ]
    }
   ],
   "source": [
    "my_money = 39000\n",
    "game = 0\n",
    "while my_money != 0:\n",
    "    game = game + 1\n",
    "    my_money = my_money - 3000\n",
    "    money_used = game * 3000\n",
    "    print('현재 %d번째 게임입니다.' %game)\n",
    "    print('지금까지 게임에 사용한 금액은 총 %d원 입니다.' %money_used)\n",
    "print('게임이 모두 끝났습니다. 진행한 총 게임 수는 %d회 입니다.' %game)"
   ]
  },
  {
   "cell_type": "code",
   "execution_count": 47,
   "metadata": {},
   "outputs": [
    {
     "name": "stdout",
     "output_type": "stream",
     "text": [
      "3000\n",
      "6000\n",
      "9000\n",
      "12000\n",
      "15000\n",
      "18000\n",
      "21000\n",
      "24000\n",
      "27000\n",
      "30000\n",
      "33000\n",
      "36000\n",
      "39000\n",
      "stop\n"
     ]
    }
   ],
   "source": [
    "amount = 0\n",
    "play_n = 0\n",
    "\n",
    "flag = 0\n",
    "\n",
    "while flag == 0:\n",
    "    amount = amount + 3000\n",
    "    play_n = play_n + 1\n",
    "    print(amount)\n",
    "    if amount == 39000:\n",
    "        flag = 1\n",
    "        print('stop')"
   ]
  },
  {
   "cell_type": "code",
   "execution_count": 51,
   "metadata": {},
   "outputs": [
    {
     "name": "stdout",
     "output_type": "stream",
     "text": [
      "1\n",
      "3\n",
      "5\n",
      "7\n",
      "9\n",
      "11\n"
     ]
    }
   ],
   "source": [
    "count = 0\n",
    "\n",
    "while count < 11:\n",
    "    count = count + 1\n",
    "    if count%2 == 0:\n",
    "        continue #continue 이후의 명령을 무시하고 반복문의 처음으로 되돌아감.\n",
    "    print(count)"
   ]
  },
  {
   "cell_type": "code",
   "execution_count": 53,
   "metadata": {
    "scrolled": true
   },
   "outputs": [
    {
     "name": "stdout",
     "output_type": "stream",
     "text": [
      "1\n",
      "2\n",
      "3\n",
      "4\n",
      "5\n"
     ]
    }
   ],
   "source": [
    "count = 0\n",
    "\n",
    "while count < 11:\n",
    "    count = count + 1\n",
    "    if count == 6:\n",
    "        break #break 이후의 명령을 무시하며, 반복문에서 벗어남.\n",
    "    print(count)"
   ]
  },
  {
   "cell_type": "code",
   "execution_count": null,
   "metadata": {},
   "outputs": [],
   "source": [
    "prime = []\n",
    "n = 1\n",
    "while n <= 100:\n",
    "    n = n + 1\n",
    "    for i in range(2, n):\n",
    "        if n%i == 0:\n",
    "            break\n",
    "        else:\n",
    "            prime.append(n)\n",
    "print(prime)"
   ]
  },
  {
   "cell_type": "code",
   "execution_count": null,
   "metadata": {},
   "outputs": [],
   "source": [
    "prime = []\n",
    "\n",
    "for num in range(2, 101):\n",
    "    flag = 1\n",
    "    for i in range(2, num):\n",
    "        if num%1 == 0:\n",
    "            flag = 0\n",
    "    if flag == 1:\n",
    "        prime.append(num)"
   ]
  },
  {
   "cell_type": "code",
   "execution_count": null,
   "metadata": {},
   "outputs": [],
   "source": [
    "print(prime)"
   ]
  },
  {
   "cell_type": "code",
   "execution_count": null,
   "metadata": {},
   "outputs": [],
   "source": []
  }
 ],
 "metadata": {
  "kernelspec": {
   "display_name": "Python 3",
   "language": "python",
   "name": "python3"
  },
  "language_info": {
   "codemirror_mode": {
    "name": "ipython",
    "version": 3
   },
   "file_extension": ".py",
   "mimetype": "text/x-python",
   "name": "python",
   "nbconvert_exporter": "python",
   "pygments_lexer": "ipython3",
   "version": "3.6.5"
  }
 },
 "nbformat": 4,
 "nbformat_minor": 2
}
