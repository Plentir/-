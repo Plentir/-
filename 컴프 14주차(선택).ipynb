{
 "cells": [
  {
   "cell_type": "code",
   "execution_count": 4,
   "metadata": {},
   "outputs": [],
   "source": [
    "#1\n",
    "def A(a, b):\n",
    "    return a + b\n",
    "    \n",
    "def B(a, b):\n",
    "    return A(a, b) * 100"
   ]
  },
  {
   "cell_type": "code",
   "execution_count": 6,
   "metadata": {},
   "outputs": [
    {
     "data": {
      "text/plain": [
       "13"
      ]
     },
     "execution_count": 6,
     "metadata": {},
     "output_type": "execute_result"
    }
   ],
   "source": [
    "A(10, 3)"
   ]
  },
  {
   "cell_type": "code",
   "execution_count": 5,
   "metadata": {},
   "outputs": [
    {
     "data": {
      "text/plain": [
       "1300"
      ]
     },
     "execution_count": 5,
     "metadata": {},
     "output_type": "execute_result"
    }
   ],
   "source": [
    "B(10, 3)"
   ]
  },
  {
   "cell_type": "markdown",
   "metadata": {},
   "source": [
    "--------------------------------------------------------------"
   ]
  },
  {
   "cell_type": "code",
   "execution_count": null,
   "metadata": {},
   "outputs": [],
   "source": [
    "#2\n",
    "#함수 내에 return이 없다는 것은 함수값이 저장되지 않음을 의미한다. 함수 내에 print() 수행문을 넣어 함수값을 출력하더라도\n",
    "#이는 함수가 갖고 있는 값을 호출해서 출력한 것이 아니라, 함수 내에서 정의된 지역 변수를 호출해 출력한 것이다.\n",
    "#따라서 return이 없는 함수 자체를 출력하면 메모리 내에 함수값이 존재하지 않기 때문에 None이라는 값을 출력한다."
   ]
  },
  {
   "cell_type": "markdown",
   "metadata": {},
   "source": [
    "--------------------------------------------------------------"
   ]
  },
  {
   "cell_type": "code",
   "execution_count": 7,
   "metadata": {},
   "outputs": [
    {
     "name": "stdout",
     "output_type": "stream",
     "text": [
      "['nimo']\n"
     ]
    }
   ],
   "source": [
    "#3-1\n",
    "f = open('report.txt', 'r')\n",
    "f.readline()\n",
    "\n",
    "trg = []\n",
    "for line in f:\n",
    "    if line.split()[1] == '3' and line.split()[2] == 'F' and int(line.split()[3]) >= 30:\n",
    "        trg.append(line.split()[0])\n",
    "\n",
    "print(trg)"
   ]
  },
  {
   "cell_type": "code",
   "execution_count": 11,
   "metadata": {},
   "outputs": [],
   "source": [
    "#3-2\n",
    "f_in = open('report.txt', 'r')\n",
    "f_in.readline()\n",
    "f_out = open('out.txt', 'w')\n",
    "\n",
    "for line in f_in:\n",
    "    if line.split()[1] == '2' and line.split()[2] == 'M' and int(line.split()[4]) >= 50:\n",
    "        f_out.write('%s\\n' %line.split()[0])\n",
    "\n",
    "f_in.close()\n",
    "f_out.close()"
   ]
  },
  {
   "cell_type": "code",
   "execution_count": 33,
   "metadata": {},
   "outputs": [],
   "source": [
    "#3-3\n",
    "def find(name):\n",
    "    f = open('report.txt', 'r')\n",
    "    f.readline()\n",
    "    \n",
    "    #학생의 점수를 리스트로 받아서 출력하는 방식이 더 좋음."
   ]
  },
  {
   "cell_type": "code",
   "execution_count": 34,
   "metadata": {},
   "outputs": [
    {
     "name": "stdout",
     "output_type": "stream",
     "text": [
      "popo_M 학생의 중간고사 점수는 21점, 기말고사 점수는 87점입니다.\n"
     ]
    }
   ],
   "source": [
    "find('popo')"
   ]
  },
  {
   "cell_type": "markdown",
   "metadata": {},
   "source": [
    "--------------------------------------------------------------"
   ]
  },
  {
   "cell_type": "code",
   "execution_count": 68,
   "metadata": {},
   "outputs": [],
   "source": [
    "#4\n",
    "def ary(array, commands):\n",
    "    res = []\n",
    "    for n in commands:\n",
    "        cut = array[n[0]-1 : n[1]]#인덱싱 할 때 끝값-1 번째 것까지만 가져와서 뒤에는 -1 없어도 됨.\n",
    "        cut.sort()#.sort(reverse = True)를 쓰면 내림차순.\n",
    "        res.append(cut[n[2]-1])\n",
    "    return res"
   ]
  },
  {
   "cell_type": "code",
   "execution_count": 69,
   "metadata": {},
   "outputs": [
    {
     "data": {
      "text/plain": [
       "[5, 6, 3]"
      ]
     },
     "execution_count": 69,
     "metadata": {},
     "output_type": "execute_result"
    }
   ],
   "source": [
    "ary([1, 5, 2, 6, 3, 7, 4], [[2, 5, 3], [4, 4, 1], [1, 7, 3]])"
   ]
  },
  {
   "cell_type": "markdown",
   "metadata": {},
   "source": [
    "--------------------------------------------------------------"
   ]
  },
  {
   "cell_type": "code",
   "execution_count": 99,
   "metadata": {},
   "outputs": [],
   "source": [
    "#5\n",
    "def clz(num):\n",
    "    cnt = 0\n",
    "    while num != 1:\n",
    "        if num % 2 == 0:\n",
    "            num = num/2\n",
    "            cnt = cnt + 1\n",
    "    \n",
    "        else:\n",
    "            num = (num * 3) + 1\n",
    "            cnt = cnt + 1\n",
    "            \n",
    "        if cnt > 500:\n",
    "            return -1\n",
    "    return cnt"
   ]
  },
  {
   "cell_type": "code",
   "execution_count": 101,
   "metadata": {},
   "outputs": [
    {
     "data": {
      "text/plain": [
       "-1"
      ]
     },
     "execution_count": 101,
     "metadata": {},
     "output_type": "execute_result"
    }
   ],
   "source": [
    "clz(626331)"
   ]
  },
  {
   "cell_type": "markdown",
   "metadata": {},
   "source": [
    "--------------------------------------------------------------"
   ]
  }
 ],
 "metadata": {
  "kernelspec": {
   "display_name": "Python 3",
   "language": "python",
   "name": "python3"
  },
  "language_info": {
   "codemirror_mode": {
    "name": "ipython",
    "version": 3
   },
   "file_extension": ".py",
   "mimetype": "text/x-python",
   "name": "python",
   "nbconvert_exporter": "python",
   "pygments_lexer": "ipython3",
   "version": "3.7.0"
  },
  "varInspector": {
   "cols": {
    "lenName": "10",
    "lenType": "10",
    "lenVar": 40
   },
   "kernels_config": {
    "python": {
     "delete_cmd_postfix": "",
     "delete_cmd_prefix": "del ",
     "library": "var_list.py",
     "varRefreshCmd": "print(var_dic_list())"
    },
    "r": {
     "delete_cmd_postfix": ") ",
     "delete_cmd_prefix": "rm(",
     "library": "var_list.r",
     "varRefreshCmd": "cat(var_dic_list()) "
    }
   },
   "types_to_exclude": [
    "module",
    "function",
    "builtin_function_or_method",
    "instance",
    "_Feature"
   ],
   "window_display": false
  }
 },
 "nbformat": 4,
 "nbformat_minor": 2
}
